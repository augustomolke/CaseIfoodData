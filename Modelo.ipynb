{
 "cells": [
  {
   "cell_type": "markdown",
   "metadata": {},
   "source": [
    "# Classification Model\n",
    "\n",
    "This workbook contains a classification model for predicting whether a customer will accept or not the next campaing.\n",
    "\n",
    "Disclaimer: For running this code, its necessary to have availabe ''data_modelo.csv' file, which is a product of EDA.ipynb file in the same folder.\n",
    "\n",
    "\n",
    "Since we are tackling a classification problem with supervised learning, I'll use RandomForest algorithm due to its ease of implementation and resistence to overfitting."
   ]
  },
  {
   "cell_type": "code",
   "execution_count": 53,
   "metadata": {},
   "outputs": [],
   "source": [
    "import numpy as np\n",
    "import pandas as pd\n",
    "import seaborn as sns\n",
    "import matplotlib.pyplot as plt\n",
    "from sklearn.ensemble import RandomForestClassifier\n",
    "from sklearn.model_selection import train_test_split\n",
    "from sklearn.metrics import  confusion_matrix, classification_report,roc_curve, roc_auc_score, auc"
   ]
  },
  {
   "cell_type": "code",
   "execution_count": 54,
   "metadata": {},
   "outputs": [],
   "source": [
    "df=pd.read_csv('data_modelo.csv')"
   ]
  },
  {
   "cell_type": "markdown",
   "metadata": {},
   "source": [
    "# Cost Function & Model Performance\n",
    "\n",
    "<br>\n",
    "\n",
    "In order to evaluate our model performance, we gotta connect with business goals: <b>maximize profit of the next campaign.</b>\n",
    "According to data provided, we can calculate the profit or loss of our correct/incorrect predictions.\n",
    "\n",
    "<br>\n",
    "\n",
    "#### Data provided:\n",
    "<il>\n",
    "<li>Revenue of a succesful conversion: 11MU</li>\n",
    "<li>Cost of contact: 3MU  </li>\n",
    "</il>\n",
    "\n",
    "<br>\n",
    "\n",
    "#### Thus, the costs are:\n",
    "<il>\n",
    "<li>True Positive: +8MU</li>\n",
    "<li>False Positive Cost: -3MU  </li>\n",
    "<li>True Negative Cost: +3MU  </li>\n",
    "<li>False Negative Cost: -8MU  </li>\n",
    "</il>\n",
    "\n",
    "\n",
    "<br>\n",
    "\n",
    "In other words, a False Negative happens when we miss the chance of profiting 8MU because we wrongly predicted that the customer would not accept the campaign.\n",
    "This cost is almost 3x higher then a False Positive cost. Thats why <b>we want to to minimize the total amount of False Negatives.</b>\n",
    "<br>\n",
    "So, we'll focus on <b>Sensitivity</b> as a performance measure in order to guarantee we are detecting most of the opportunities of profiting."
   ]
  },
  {
   "cell_type": "code",
   "execution_count": 55,
   "metadata": {},
   "outputs": [
    {
     "data": {
      "text/plain": [
       "[[3, -3], [-8, 8]]"
      ]
     },
     "execution_count": 55,
     "metadata": {},
     "output_type": "execute_result"
    }
   ],
   "source": [
    "costs = [[3,-3],[-8,8]]\n",
    "costs\n"
   ]
  },
  {
   "cell_type": "markdown",
   "metadata": {},
   "source": [
    "# Splitting the Dataset in X & y  (dependent & indepentend variables)"
   ]
  },
  {
   "cell_type": "code",
   "execution_count": 56,
   "metadata": {},
   "outputs": [
    {
     "data": {
      "text/plain": [
       "Unnamed: 0                      int64\n",
       "Income                        float64\n",
       "Kidhome                         int64\n",
       "Teenhome                        int64\n",
       "Recency                         int64\n",
       "MntWines                        int64\n",
       "MntFruits                       int64\n",
       "MntMeatProducts                 int64\n",
       "MntFishProducts                 int64\n",
       "MntSweetProducts                int64\n",
       "MntGoldProds                    int64\n",
       "NumDealsPurchases               int64\n",
       "NumWebPurchases                 int64\n",
       "NumCatalogPurchases             int64\n",
       "NumStorePurchases               int64\n",
       "NumWebVisitsMonth               int64\n",
       "AcceptedCmp3                    int64\n",
       "AcceptedCmp4                    int64\n",
       "AcceptedCmp5                    int64\n",
       "AcceptedCmp1                    int64\n",
       "AcceptedCmp2                    int64\n",
       "Complain                        int64\n",
       "Response                        int64\n",
       "Age                             int64\n",
       "Years_as_Customer               int64\n",
       "Family_Size                     int64\n",
       "Total_income_familymember     float64\n",
       "Total_Conv                      int64\n",
       "RecentCmp                       int64\n",
       "Total_spent                     int64\n",
       "Total_spent_percent_income    float64\n",
       "Total_Purchases                 int64\n",
       "AOV                           float64\n",
       "Total_Purchases_year          float64\n",
       "%Wine                         float64\n",
       "%Fruit                        float64\n",
       "%Meat                         float64\n",
       "%Fish                         float64\n",
       "%Sweet                        float64\n",
       "%Gold                         float64\n",
       "%WebPurchases                 float64\n",
       "%CatalogPurchases             float64\n",
       "%StorePurchases               float64\n",
       "%DealPurchases                float64\n",
       "products_factor               float64\n",
       "Deal_purchases                  int64\n",
       "channels_factor               float64\n",
       "Basic                           int64\n",
       "Graduation                      int64\n",
       "Master                          int64\n",
       "PhD                             int64\n",
       "Married                         int64\n",
       "Single                          int64\n",
       "Together                        int64\n",
       "Widow                           int64\n",
       "dtype: object"
      ]
     },
     "execution_count": 56,
     "metadata": {},
     "output_type": "execute_result"
    }
   ],
   "source": [
    "df.dtypes"
   ]
  },
  {
   "cell_type": "code",
   "execution_count": 57,
   "metadata": {},
   "outputs": [],
   "source": [
    "X= df.drop(['Response','Unnamed: 0'], axis=1)\n",
    "y=df['Response']"
   ]
  },
  {
   "cell_type": "markdown",
   "metadata": {},
   "source": [
    "# Now lets split in train & test Datasets\n",
    "\n",
    "<br>\n",
    "\n",
    "We'll use 70% of our data as training data and 30% as testing data"
   ]
  },
  {
   "cell_type": "code",
   "execution_count": 58,
   "metadata": {},
   "outputs": [],
   "source": [
    "X_train, X_test, y_train, y_test = train_test_split(X,y, test_size =0.3, random_state=1)"
   ]
  },
  {
   "cell_type": "markdown",
   "metadata": {},
   "source": [
    "# Model #1: Creation & Training\n",
    "\n",
    "\n",
    "I'll use a random_state because I want to this work to be replicable."
   ]
  },
  {
   "cell_type": "code",
   "execution_count": 59,
   "metadata": {},
   "outputs": [
    {
     "data": {
      "text/plain": [
       "RandomForestClassifier(bootstrap=True, ccp_alpha=0.0, class_weight=None,\n",
       "                       criterion='gini', max_depth=None, max_features='auto',\n",
       "                       max_leaf_nodes=None, max_samples=None,\n",
       "                       min_impurity_decrease=0.0, min_impurity_split=None,\n",
       "                       min_samples_leaf=1, min_samples_split=2,\n",
       "                       min_weight_fraction_leaf=0.0, n_estimators=2000,\n",
       "                       n_jobs=None, oob_score=False, random_state=1, verbose=0,\n",
       "                       warm_start=False)"
      ]
     },
     "execution_count": 59,
     "metadata": {},
     "output_type": "execute_result"
    }
   ],
   "source": [
    "randomforest_classifier = RandomForestClassifier(n_estimators=2000, random_state=1)\n",
    "randomforest_classifier.fit(X_train, y_train)"
   ]
  },
  {
   "cell_type": "markdown",
   "metadata": {},
   "source": [
    "# Model #1 : Evaluating"
   ]
  },
  {
   "cell_type": "code",
   "execution_count": 60,
   "metadata": {},
   "outputs": [],
   "source": [
    "y_predict=randomforest_classifier.predict(X_test)\n",
    "proba = randomforest_classifier.predict_proba(X_test)\n",
    "cm= confusion_matrix(y_test, y_predict)"
   ]
  },
  {
   "cell_type": "code",
   "execution_count": 61,
   "metadata": {},
   "outputs": [
    {
     "data": {
      "image/png": "[encoded data removed]",
      "text/plain": [
       "<Figure size 432x288 with 2 Axes>"
      ]
     },
     "metadata": {
      "needs_background": "light"
     },
     "output_type": "display_data"
    }
   ],
   "source": [
    "fig1, ax1 = plt.subplots()\n",
    "ax1 = sns.heatmap(cm, annot=True)"
   ]
  },
  {
   "cell_type": "code",
   "execution_count": 62,
   "metadata": {},
   "outputs": [
    {
     "name": "stdout",
     "output_type": "stream",
     "text": [
      "              precision    recall  f1-score   support\n",
      "\n",
      "           0       0.89      0.96      0.93       501\n",
      "           1       0.56      0.28      0.38        81\n",
      "\n",
      "    accuracy                           0.87       582\n",
      "   macro avg       0.73      0.62      0.65       582\n",
      "weighted avg       0.85      0.87      0.85       582\n",
      "\n"
     ]
    }
   ],
   "source": [
    "print(classification_report(y_test, y_predict))"
   ]
  },
  {
   "cell_type": "markdown",
   "metadata": {},
   "source": [
    "# Model 1: Veredict\n",
    "\n",
    "\n",
    "<br>\n",
    "\n",
    "\n",
    "Our first model although has a good Accuracy (87%), it has a really high ammout of False Positives. As we saw, that is the most expensive kind of error we can have in this problem (where we miss the chance of profitting 8MU)\n",
    "\n",
    "The reason for this is that our dataset is <b>unbalanced</b>. As only ~15% of our data actually accepted the Campaing, the model learns that most of the time people don't accept it.\n",
    "\n",
    "For fixing this, we'll create our Model 2, with a balanced dataset.\n",
    "   "
   ]
  },
  {
   "cell_type": "markdown",
   "metadata": {},
   "source": [
    "# Model 2: Data Balancing"
   ]
  },
  {
   "cell_type": "code",
   "execution_count": 63,
   "metadata": {},
   "outputs": [
    {
     "data": {
      "text/plain": [
       "288"
      ]
     },
     "execution_count": 63,
     "metadata": {},
     "output_type": "execute_result"
    }
   ],
   "source": [
    "df[df['Response']==1].shape[0]"
   ]
  },
  {
   "cell_type": "markdown",
   "metadata": {},
   "source": [
    "As we can see, we only hace 288 rows with Response = 1. In order to get a 50/50 balanced data, we'll randomlly select 288 rows where Rensponse = 0."
   ]
  },
  {
   "cell_type": "code",
   "execution_count": 64,
   "metadata": {},
   "outputs": [
    {
     "data": {
      "text/html": [
       "<div>\n",
       "<style scoped>\n",
       "    .dataframe tbody tr th:only-of-type {\n",
       "        vertical-align: middle;\n",
       "    }\n",
       "\n",
       "    .dataframe tbody tr th {\n",
       "        vertical-align: top;\n",
       "    }\n",
       "\n",
       "    .dataframe thead th {\n",
       "        text-align: right;\n",
       "    }\n",
       "</style>\n",
       "<table border=\"1\" class=\"dataframe\">\n",
       "  <thead>\n",
       "    <tr style=\"text-align: right;\">\n",
       "      <th></th>\n",
       "      <th>Unnamed: 0</th>\n",
       "      <th>Income</th>\n",
       "      <th>Kidhome</th>\n",
       "      <th>Teenhome</th>\n",
       "      <th>Recency</th>\n",
       "      <th>MntWines</th>\n",
       "      <th>MntFruits</th>\n",
       "      <th>MntMeatProducts</th>\n",
       "      <th>MntFishProducts</th>\n",
       "      <th>MntSweetProducts</th>\n",
       "      <th>...</th>\n",
       "      <th>Deal_purchases</th>\n",
       "      <th>channels_factor</th>\n",
       "      <th>Basic</th>\n",
       "      <th>Graduation</th>\n",
       "      <th>Master</th>\n",
       "      <th>PhD</th>\n",
       "      <th>Married</th>\n",
       "      <th>Single</th>\n",
       "      <th>Together</th>\n",
       "      <th>Widow</th>\n",
       "    </tr>\n",
       "    <tr>\n",
       "      <th>Response</th>\n",
       "      <th></th>\n",
       "      <th></th>\n",
       "      <th></th>\n",
       "      <th></th>\n",
       "      <th></th>\n",
       "      <th></th>\n",
       "      <th></th>\n",
       "      <th></th>\n",
       "      <th></th>\n",
       "      <th></th>\n",
       "      <th></th>\n",
       "      <th></th>\n",
       "      <th></th>\n",
       "      <th></th>\n",
       "      <th></th>\n",
       "      <th></th>\n",
       "      <th></th>\n",
       "      <th></th>\n",
       "      <th></th>\n",
       "      <th></th>\n",
       "      <th></th>\n",
       "    </tr>\n",
       "  </thead>\n",
       "  <tbody>\n",
       "    <tr>\n",
       "      <th>0</th>\n",
       "      <td>288</td>\n",
       "      <td>288</td>\n",
       "      <td>288</td>\n",
       "      <td>288</td>\n",
       "      <td>288</td>\n",
       "      <td>288</td>\n",
       "      <td>288</td>\n",
       "      <td>288</td>\n",
       "      <td>288</td>\n",
       "      <td>288</td>\n",
       "      <td>...</td>\n",
       "      <td>288</td>\n",
       "      <td>288</td>\n",
       "      <td>288</td>\n",
       "      <td>288</td>\n",
       "      <td>288</td>\n",
       "      <td>288</td>\n",
       "      <td>288</td>\n",
       "      <td>288</td>\n",
       "      <td>288</td>\n",
       "      <td>288</td>\n",
       "    </tr>\n",
       "    <tr>\n",
       "      <th>1</th>\n",
       "      <td>288</td>\n",
       "      <td>288</td>\n",
       "      <td>288</td>\n",
       "      <td>288</td>\n",
       "      <td>288</td>\n",
       "      <td>288</td>\n",
       "      <td>288</td>\n",
       "      <td>288</td>\n",
       "      <td>288</td>\n",
       "      <td>288</td>\n",
       "      <td>...</td>\n",
       "      <td>288</td>\n",
       "      <td>288</td>\n",
       "      <td>288</td>\n",
       "      <td>288</td>\n",
       "      <td>288</td>\n",
       "      <td>288</td>\n",
       "      <td>288</td>\n",
       "      <td>288</td>\n",
       "      <td>288</td>\n",
       "      <td>288</td>\n",
       "    </tr>\n",
       "  </tbody>\n",
       "</table>\n",
       "<p>2 rows × 55 columns</p>\n",
       "</div>"
      ],
      "text/plain": [
       "          Unnamed: 0  Income  Kidhome  Teenhome  Recency  MntWines  MntFruits  \\\n",
       "Response                                                                        \n",
       "0                288     288      288       288      288       288        288   \n",
       "1                288     288      288       288      288       288        288   \n",
       "\n",
       "          MntMeatProducts  MntFishProducts  MntSweetProducts  ...  \\\n",
       "Response                                                      ...   \n",
       "0                     288              288               288  ...   \n",
       "1                     288              288               288  ...   \n",
       "\n",
       "          Deal_purchases  channels_factor  Basic  Graduation  Master  PhD  \\\n",
       "Response                                                                    \n",
       "0                    288              288    288         288     288  288   \n",
       "1                    288              288    288         288     288  288   \n",
       "\n",
       "          Married  Single  Together  Widow  \n",
       "Response                                    \n",
       "0             288     288       288    288  \n",
       "1             288     288       288    288  \n",
       "\n",
       "[2 rows x 55 columns]"
      ]
     },
     "execution_count": 64,
     "metadata": {},
     "output_type": "execute_result"
    }
   ],
   "source": [
    "# Shuffle the Dataset.\n",
    "shuffled_df = df.sample(frac=1,random_state=1)\n",
    "\n",
    "# Put all the fraud class in a separate dataset.\n",
    "convert_df = df.loc[shuffled_df['Response'] == 1]\n",
    "\n",
    "\n",
    "\n",
    "#Randomly select 492 observations from the non-fraud (majority class)\n",
    "non_convert_df = shuffled_df.loc[shuffled_df['Response'] == 0].sample(n=df[df['Response']==1].shape[0],random_state=42)\n",
    "\n",
    "# Concatenate both dataframes again\n",
    "normalized_df = pd.concat([convert_df, non_convert_df])\n",
    "\n",
    "\n",
    "normalized_df.groupby(normalized_df.Response).count()"
   ]
  },
  {
   "cell_type": "markdown",
   "metadata": {},
   "source": [
    "Now we have a perfect balanced dataset. Lets train or model again with this new data."
   ]
  },
  {
   "cell_type": "markdown",
   "metadata": {},
   "source": [
    "# Model 2: Data Split and Training"
   ]
  },
  {
   "cell_type": "code",
   "execution_count": 65,
   "metadata": {},
   "outputs": [
    {
     "data": {
      "text/plain": [
       "RandomForestClassifier(bootstrap=True, ccp_alpha=0.0, class_weight=None,\n",
       "                       criterion='gini', max_depth=None, max_features='auto',\n",
       "                       max_leaf_nodes=None, max_samples=None,\n",
       "                       min_impurity_decrease=0.0, min_impurity_split=None,\n",
       "                       min_samples_leaf=1, min_samples_split=2,\n",
       "                       min_weight_fraction_leaf=0.0, n_estimators=2000,\n",
       "                       n_jobs=None, oob_score=False, random_state=1, verbose=0,\n",
       "                       warm_start=False)"
      ]
     },
     "execution_count": 65,
     "metadata": {},
     "output_type": "execute_result"
    }
   ],
   "source": [
    "X= normalized_df.drop(['Response','Unnamed: 0'], axis=1)\n",
    "y=normalized_df['Response']\n",
    "\n",
    "X_train, X_test, y_train, y_test = train_test_split(X,y, test_size =0.3, random_state=1)\n",
    "\n",
    "randomforest_classifier.fit(X_train, y_train)"
   ]
  },
  {
   "cell_type": "markdown",
   "metadata": {},
   "source": [
    "# Model 2: Evaluation"
   ]
  },
  {
   "cell_type": "code",
   "execution_count": 66,
   "metadata": {},
   "outputs": [
    {
     "data": {
      "image/png": "[encoded data removed]",
      "text/plain": [
       "<Figure size 432x288 with 2 Axes>"
      ]
     },
     "metadata": {
      "needs_background": "light"
     },
     "output_type": "display_data"
    }
   ],
   "source": [
    "y_predict=randomforest_classifier.predict(X_test)\n",
    "proba = randomforest_classifier.predict_proba(X_test)\n",
    "cm= confusion_matrix(y_test, y_predict)\n",
    "\n",
    "fig1, ax1 = plt.subplots()\n",
    "ax1 = sns.heatmap(cm, annot=True)\n"
   ]
  },
  {
   "cell_type": "code",
   "execution_count": 67,
   "metadata": {},
   "outputs": [
    {
     "name": "stdout",
     "output_type": "stream",
     "text": [
      "              precision    recall  f1-score   support\n",
      "\n",
      "           0       0.83      0.71      0.77        91\n",
      "           1       0.73      0.84      0.78        82\n",
      "\n",
      "    accuracy                           0.77       173\n",
      "   macro avg       0.78      0.78      0.77       173\n",
      "weighted avg       0.78      0.77      0.77       173\n",
      "\n"
     ]
    }
   ],
   "source": [
    "print(classification_report(y_test, y_predict))"
   ]
  },
  {
   "cell_type": "code",
   "execution_count": 68,
   "metadata": {},
   "outputs": [
    {
     "data": {
      "text/plain": [
       "565"
      ]
     },
     "execution_count": 68,
     "metadata": {},
     "output_type": "execute_result"
    }
   ],
   "source": [
    "np.sum((cm*costs))"
   ]
  },
  {
   "cell_type": "markdown",
   "metadata": {},
   "source": [
    "Much better results for our business problem. Now we only miss <b>16%</b> of our customers who would accept the campaing.\n",
    "The Cost Function sums up to 565MU, which means that we are with a good balance of Errors (financially speaking)"
   ]
  },
  {
   "cell_type": "code",
   "execution_count": 69,
   "metadata": {},
   "outputs": [
    {
     "name": "stdout",
     "output_type": "stream",
     "text": [
      "AUC: 0.88\n"
     ]
    }
   ],
   "source": [
    "probs = proba[:, 1]\n",
    "\n",
    "auc = roc_auc_score(y_test, probs)\n",
    "print('AUC: %.2f' % auc)"
   ]
  },
  {
   "cell_type": "code",
   "execution_count": 70,
   "metadata": {},
   "outputs": [],
   "source": [
    "fpr, tpr, thresholds = roc_curve(y_test, probs)"
   ]
  },
  {
   "cell_type": "code",
   "execution_count": 71,
   "metadata": {},
   "outputs": [
    {
     "data": {
      "image/png": "[encoded data removed]",
      "text/plain": [
       "<Figure size 432x288 with 1 Axes>"
      ]
     },
     "metadata": {
      "needs_background": "light"
     },
     "output_type": "display_data"
    },
    {
     "data": {
      "text/plain": [
       "None"
      ]
     },
     "metadata": {},
     "output_type": "display_data"
    }
   ],
   "source": [
    "def plot_roc_curve(fpr, tpr):\n",
    "    plt.clf()\n",
    "    plt.plot(fpr, tpr, color='orange', label='ROC')\n",
    "    plt.plot([0, 1], [0, 1], color='darkblue', linestyle='--')\n",
    "    plt.xlabel('False Positive Rate')\n",
    "    plt.ylabel('True Positive Rate')\n",
    "    plt.title('Receiver Operating Characteristic (ROC) Curve')\n",
    "    display(plt.show())\n",
    "\n",
    "plot_roc_curve(fpr, tpr)"
   ]
  },
  {
   "cell_type": "code",
   "execution_count": null,
   "metadata": {},
   "outputs": [],
   "source": []
  },
  {
   "cell_type": "markdown",
   "metadata": {},
   "source": [
    "# Model 2: Veredict"
   ]
  },
  {
   "cell_type": "markdown",
   "metadata": {},
   "source": [
    "Our AUC (Area under Curve) is 0.88 which is decent but has room for improvement. We'll perform some feature selection for our Model 3 focusing specially on Sensitivity.\n",
    "\n",
    "For this, lets first take a look at the list of features sorted by importances:"
   ]
  },
  {
   "cell_type": "code",
   "execution_count": 72,
   "metadata": {},
   "outputs": [],
   "source": [
    "feature_importances = pd.DataFrame(randomforest_classifier.feature_importances_,\n",
    "                                   index = X_train.columns,\n",
    "                                    columns=['importance']).sort_values('importance',ascending=False)"
   ]
  },
  {
   "cell_type": "code",
   "execution_count": 73,
   "metadata": {},
   "outputs": [
    {
     "name": "stdout",
     "output_type": "stream",
     "text": [
      "                            importance\n",
      "Recency                       0.069238\n",
      "channels_factor               0.059368\n",
      "%StorePurchases               0.058603\n",
      "%CatalogPurchases             0.035343\n",
      "MntGoldProds                  0.032397\n",
      "Total_Conv                    0.032372\n",
      "Total_income_familymember     0.032095\n",
      "%Sweet                        0.031803\n",
      "AOV                           0.029918\n",
      "Total_spent                   0.029677\n",
      "%Meat                         0.028305\n",
      "Total_spent_percent_income    0.027613\n",
      "RecentCmp                     0.027193\n",
      "MntMeatProducts               0.025574\n",
      "MntWines                      0.024978\n",
      "%Gold                         0.024907\n",
      "NumWebVisitsMonth             0.024675\n",
      "Income                        0.023867\n",
      "MntSweetProducts              0.023795\n",
      "Years_as_Customer             0.022028\n",
      "Age                           0.021714\n",
      "%DealPurchases                0.021499\n",
      "%Wine                         0.021397\n",
      "products_factor               0.020664\n",
      "%Fish                         0.020232\n",
      "%WebPurchases                 0.020216\n",
      "Total_Purchases_year          0.020181\n",
      "%Fruit                        0.019898\n",
      "MntFishProducts               0.016468\n",
      "MntFruits                     0.015626\n",
      "NumStorePurchases             0.015231\n",
      "NumCatalogPurchases           0.014901\n",
      "Total_Purchases               0.013921\n",
      "NumWebPurchases               0.010610\n",
      "Single                        0.010404\n",
      "AcceptedCmp3                  0.009546\n",
      "Family_Size                   0.008248\n",
      "NumDealsPurchases             0.007623\n",
      "Married                       0.007393\n",
      "Teenhome                      0.006374\n",
      "AcceptedCmp1                  0.005394\n",
      "PhD                           0.005008\n",
      "Graduation                    0.003856\n",
      "Kidhome                       0.003764\n",
      "AcceptedCmp5                  0.003550\n",
      "Master                        0.003519\n",
      "Together                      0.002995\n",
      "AcceptedCmp4                  0.001831\n",
      "Basic                         0.001799\n",
      "AcceptedCmp2                  0.001421\n",
      "Widow                         0.000581\n",
      "Complain                      0.000236\n",
      "Deal_purchases                0.000149\n"
     ]
    }
   ],
   "source": [
    "print(feature_importances)"
   ]
  },
  {
   "cell_type": "markdown",
   "metadata": {},
   "source": [
    "# Model 3: Feature Selection\n",
    "\n",
    "\n",
    "This step involves a lot of experimenting and \"feeling\" the model while you select the features.\n",
    "\n",
    "RandomForest models are tricky in terms of feature importances because if two features are highly correlated, one of them will be considere very important while the other will loose importance, and that's not actually the reality.\n",
    "\n",
    "For this problem, I tried to remove columns with low importance and preferably those which have a high correlation with others in the list.\n",
    "<br>\n",
    "<b>Example</b> : Remove AcceptedCmp's (all 5 campaings) because we already created a Total_Conv which brings the information we need.\n",
    "\n"
   ]
  },
  {
   "cell_type": "code",
   "execution_count": 74,
   "metadata": {},
   "outputs": [],
   "source": [
    "columns_remove=['Kidhome','Teenhome','AcceptedCmp5','AcceptedCmp4','AcceptedCmp3','AcceptedCmp2','AcceptedCmp1',\\\n",
    "                 'Complain','Deal_purchases','NumDealsPurchases','Widow','Basic','PhD','Together','Graduation','Family_Size',\\\n",
    "               'Total_spent','%Fish','Total_spent','Master','%CatalogPurchases','Total_Purchases','NumWebPurchases',\\\n",
    "                'MntFishProducts','%Sweet','%StorePurchases','MntSweetProducts','Total_income_familymember']"
   ]
  },
  {
   "cell_type": "markdown",
   "metadata": {},
   "source": [
    "# Model 3: Splitting data and Training Model"
   ]
  },
  {
   "cell_type": "code",
   "execution_count": 75,
   "metadata": {},
   "outputs": [
    {
     "data": {
      "text/plain": [
       "RandomForestClassifier(bootstrap=True, ccp_alpha=0.0, class_weight=None,\n",
       "                       criterion='gini', max_depth=None, max_features='auto',\n",
       "                       max_leaf_nodes=None, max_samples=None,\n",
       "                       min_impurity_decrease=0.0, min_impurity_split=None,\n",
       "                       min_samples_leaf=1, min_samples_split=2,\n",
       "                       min_weight_fraction_leaf=0.0, n_estimators=2000,\n",
       "                       n_jobs=None, oob_score=False, random_state=1, verbose=0,\n",
       "                       warm_start=False)"
      ]
     },
     "execution_count": 75,
     "metadata": {},
     "output_type": "execute_result"
    }
   ],
   "source": [
    "X= normalized_df.drop(['Response','Unnamed: 0']+columns_remove, axis=1)\n",
    "y=normalized_df['Response']\n",
    "\n",
    "X_train, X_test, y_train, y_test = train_test_split(X,y, test_size =0.3, random_state=1)\n",
    "\n",
    "randomforest_classifier.fit(X_train, y_train)"
   ]
  },
  {
   "cell_type": "markdown",
   "metadata": {},
   "source": [
    "# Model 3: Evaluating"
   ]
  },
  {
   "cell_type": "code",
   "execution_count": 76,
   "metadata": {},
   "outputs": [
    {
     "data": {
      "image/png": "[encoded data removed]",
      "text/plain": [
       "<Figure size 432x288 with 2 Axes>"
      ]
     },
     "metadata": {
      "needs_background": "light"
     },
     "output_type": "display_data"
    }
   ],
   "source": [
    "y_predict=randomforest_classifier.predict(X_test)\n",
    "proba = randomforest_classifier.predict_proba(X_test)\n",
    "cm= confusion_matrix(y_test, y_predict)\n",
    "\n",
    "fig1, ax1 = plt.subplots()\n",
    "ax1 = sns.heatmap(cm, annot=True)"
   ]
  },
  {
   "cell_type": "code",
   "execution_count": 77,
   "metadata": {},
   "outputs": [
    {
     "name": "stdout",
     "output_type": "stream",
     "text": [
      "              precision    recall  f1-score   support\n",
      "\n",
      "           0       0.92      0.74      0.82        91\n",
      "           1       0.76      0.93      0.84        82\n",
      "\n",
      "    accuracy                           0.83       173\n",
      "   macro avg       0.84      0.83      0.83       173\n",
      "weighted avg       0.84      0.83      0.83       173\n",
      "\n"
     ]
    }
   ],
   "source": [
    "print(classification_report(y_test, y_predict))"
   ]
  },
  {
   "cell_type": "code",
   "execution_count": 78,
   "metadata": {},
   "outputs": [
    {
     "name": "stdout",
     "output_type": "stream",
     "text": [
      "AUC: 0.90\n"
     ]
    }
   ],
   "source": [
    "probs = proba[:, 1]\n",
    "\n",
    "auc = roc_auc_score(y_test, probs)\n",
    "print('AUC: %.2f' % auc)"
   ]
  },
  {
   "cell_type": "markdown",
   "metadata": {},
   "source": [
    "Our model had a big improvement by removing features. That means that it was overfitted. In other words, it was learning too well our training data and having a hard time \"generalizing\" this knowledge to predict others datasets.\n",
    "\n",
    "Now we only miss 7% of our possibles convertions.\n",
    "\n",
    "Lets take a look in our selected features:"
   ]
  },
  {
   "cell_type": "code",
   "execution_count": 79,
   "metadata": {},
   "outputs": [
    {
     "name": "stdout",
     "output_type": "stream",
     "text": [
      "                            importance\n",
      "channels_factor               0.100761\n",
      "Recency                       0.094969\n",
      "MntGoldProds                  0.049910\n",
      "AOV                           0.045692\n",
      "Total_Conv                    0.044329\n",
      "%Meat                         0.043711\n",
      "RecentCmp                     0.043494\n",
      "MntMeatProducts               0.043080\n",
      "Total_spent_percent_income    0.042888\n",
      "MntWines                      0.038732\n",
      "%Gold                         0.037156\n",
      "Income                        0.036772\n",
      "Age                           0.033634\n",
      "%Wine                         0.031690\n",
      "Total_Purchases_year          0.031507\n",
      "NumWebVisitsMonth             0.031136\n",
      "products_factor               0.031109\n",
      "%DealPurchases                0.030981\n",
      "Years_as_Customer             0.030426\n",
      "%WebPurchases                 0.029606\n",
      "%Fruit                        0.029051\n",
      "NumCatalogPurchases           0.026781\n",
      "NumStorePurchases             0.024366\n",
      "MntFruits                     0.023383\n",
      "Single                        0.013394\n",
      "Married                       0.011442\n"
     ]
    }
   ],
   "source": [
    "feature_importances = pd.DataFrame(randomforest_classifier.feature_importances_,\n",
    "                                   index = X_train.columns,\n",
    "                                    columns=['importance']).sort_values('importance',ascending=False)\n",
    "\n",
    "print(feature_importances)"
   ]
  },
  {
   "cell_type": "code",
   "execution_count": 80,
   "metadata": {},
   "outputs": [
    {
     "data": {
      "text/html": [
       "<div>\n",
       "<style scoped>\n",
       "    .dataframe tbody tr th:only-of-type {\n",
       "        vertical-align: middle;\n",
       "    }\n",
       "\n",
       "    .dataframe tbody tr th {\n",
       "        vertical-align: top;\n",
       "    }\n",
       "\n",
       "    .dataframe thead th {\n",
       "        text-align: right;\n",
       "    }\n",
       "</style>\n",
       "<table border=\"1\" class=\"dataframe\">\n",
       "  <thead>\n",
       "    <tr style=\"text-align: right;\">\n",
       "      <th></th>\n",
       "      <th>importance</th>\n",
       "    </tr>\n",
       "  </thead>\n",
       "  <tbody>\n",
       "    <tr>\n",
       "      <th>channels_factor</th>\n",
       "      <td>0.100761</td>\n",
       "    </tr>\n",
       "    <tr>\n",
       "      <th>Recency</th>\n",
       "      <td>0.094969</td>\n",
       "    </tr>\n",
       "    <tr>\n",
       "      <th>MntGoldProds</th>\n",
       "      <td>0.049910</td>\n",
       "    </tr>\n",
       "    <tr>\n",
       "      <th>AOV</th>\n",
       "      <td>0.045692</td>\n",
       "    </tr>\n",
       "    <tr>\n",
       "      <th>Total_Conv</th>\n",
       "      <td>0.044329</td>\n",
       "    </tr>\n",
       "    <tr>\n",
       "      <th>%Meat</th>\n",
       "      <td>0.043711</td>\n",
       "    </tr>\n",
       "    <tr>\n",
       "      <th>RecentCmp</th>\n",
       "      <td>0.043494</td>\n",
       "    </tr>\n",
       "    <tr>\n",
       "      <th>MntMeatProducts</th>\n",
       "      <td>0.043080</td>\n",
       "    </tr>\n",
       "    <tr>\n",
       "      <th>Total_spent_percent_income</th>\n",
       "      <td>0.042888</td>\n",
       "    </tr>\n",
       "    <tr>\n",
       "      <th>MntWines</th>\n",
       "      <td>0.038732</td>\n",
       "    </tr>\n",
       "    <tr>\n",
       "      <th>%Gold</th>\n",
       "      <td>0.037156</td>\n",
       "    </tr>\n",
       "    <tr>\n",
       "      <th>Income</th>\n",
       "      <td>0.036772</td>\n",
       "    </tr>\n",
       "    <tr>\n",
       "      <th>Age</th>\n",
       "      <td>0.033634</td>\n",
       "    </tr>\n",
       "    <tr>\n",
       "      <th>%Wine</th>\n",
       "      <td>0.031690</td>\n",
       "    </tr>\n",
       "    <tr>\n",
       "      <th>Total_Purchases_year</th>\n",
       "      <td>0.031507</td>\n",
       "    </tr>\n",
       "    <tr>\n",
       "      <th>NumWebVisitsMonth</th>\n",
       "      <td>0.031136</td>\n",
       "    </tr>\n",
       "    <tr>\n",
       "      <th>products_factor</th>\n",
       "      <td>0.031109</td>\n",
       "    </tr>\n",
       "    <tr>\n",
       "      <th>%DealPurchases</th>\n",
       "      <td>0.030981</td>\n",
       "    </tr>\n",
       "    <tr>\n",
       "      <th>Years_as_Customer</th>\n",
       "      <td>0.030426</td>\n",
       "    </tr>\n",
       "    <tr>\n",
       "      <th>%WebPurchases</th>\n",
       "      <td>0.029606</td>\n",
       "    </tr>\n",
       "    <tr>\n",
       "      <th>%Fruit</th>\n",
       "      <td>0.029051</td>\n",
       "    </tr>\n",
       "    <tr>\n",
       "      <th>NumCatalogPurchases</th>\n",
       "      <td>0.026781</td>\n",
       "    </tr>\n",
       "    <tr>\n",
       "      <th>NumStorePurchases</th>\n",
       "      <td>0.024366</td>\n",
       "    </tr>\n",
       "    <tr>\n",
       "      <th>MntFruits</th>\n",
       "      <td>0.023383</td>\n",
       "    </tr>\n",
       "    <tr>\n",
       "      <th>Single</th>\n",
       "      <td>0.013394</td>\n",
       "    </tr>\n",
       "    <tr>\n",
       "      <th>Married</th>\n",
       "      <td>0.011442</td>\n",
       "    </tr>\n",
       "  </tbody>\n",
       "</table>\n",
       "</div>"
      ],
      "text/plain": [
       "                            importance\n",
       "channels_factor               0.100761\n",
       "Recency                       0.094969\n",
       "MntGoldProds                  0.049910\n",
       "AOV                           0.045692\n",
       "Total_Conv                    0.044329\n",
       "%Meat                         0.043711\n",
       "RecentCmp                     0.043494\n",
       "MntMeatProducts               0.043080\n",
       "Total_spent_percent_income    0.042888\n",
       "MntWines                      0.038732\n",
       "%Gold                         0.037156\n",
       "Income                        0.036772\n",
       "Age                           0.033634\n",
       "%Wine                         0.031690\n",
       "Total_Purchases_year          0.031507\n",
       "NumWebVisitsMonth             0.031136\n",
       "products_factor               0.031109\n",
       "%DealPurchases                0.030981\n",
       "Years_as_Customer             0.030426\n",
       "%WebPurchases                 0.029606\n",
       "%Fruit                        0.029051\n",
       "NumCatalogPurchases           0.026781\n",
       "NumStorePurchases             0.024366\n",
       "MntFruits                     0.023383\n",
       "Single                        0.013394\n",
       "Married                       0.011442"
      ]
     },
     "execution_count": 80,
     "metadata": {},
     "output_type": "execute_result"
    }
   ],
   "source": [
    "feature_importances"
   ]
  },
  {
   "cell_type": "markdown",
   "metadata": {},
   "source": [
    "Turned out that channels_factor, Recency, AOV & MntGoldProds are the most important features for this model."
   ]
  },
  {
   "cell_type": "markdown",
   "metadata": {},
   "source": [
    "# Model 3: Cost Function"
   ]
  },
  {
   "cell_type": "code",
   "execution_count": 81,
   "metadata": {},
   "outputs": [
    {
     "data": {
      "text/plain": [
       "689"
      ]
     },
     "execution_count": 81,
     "metadata": {},
     "output_type": "execute_result"
    }
   ],
   "source": [
    "np.sum((cm*costs))"
   ]
  },
  {
   "cell_type": "markdown",
   "metadata": {},
   "source": [
    "After feature selection, we now have n Net revenue of 689MU (22% improvement versus Model 2).\n",
    "Bellow we have net values for each type of error"
   ]
  },
  {
   "cell_type": "code",
   "execution_count": 82,
   "metadata": {},
   "outputs": [
    {
     "data": {
      "text/plain": [
       "array([[201, -72],\n",
       "       [-48, 608]], dtype=int64)"
      ]
     },
     "execution_count": 82,
     "metadata": {},
     "output_type": "execute_result"
    }
   ],
   "source": [
    "(cm*costs)"
   ]
  },
  {
   "cell_type": "markdown",
   "metadata": {},
   "source": [
    "# Conslusions\n",
    "\n",
    "<br>\n",
    "\n",
    "<il>\n",
    "<li>We developed a model with 93% Sensititivy (or recall) for Conversions.\n",
    "That means we loose 7% of our opportunities of conversions for miss-predicting the behavior of that customer.</li>\n",
    "<li>Focusing on this metric was a decision due to business costs of False Negatives/Positives that were provided in the case. Besides that AUC is 0.9 and Accuracy 0.83</li>\n",
    "<li>The mains improvements from Model 1 & 2 came from dataset balancing and feature selection.</li>\n",
    "</il>"
   ]
  },
  {
   "cell_type": "markdown",
   "metadata": {},
   "source": [
    "# Suggestion of Future Improvements\n",
    "\n",
    "<br>\n",
    "\n",
    "<il>\n",
    "<li>To gather more good data for modelling customer behavior.Ex.: Region where they live, Dates of purchases/acceptance, website visits & Num WebPurchases from the same timeframe etc </li>\n",
    "<li>Work with normalization and creation of new features</li>\n",
    "<li> To work in data skewness;</li>\n",
    "<li> Try others undersampling (or oversampling) techniques;</li>\n",
    "<li> Try more sofisticated tecniques for outliers detection.</li>\n",
    "</il>\n",
    "\n"
   ]
  },
  {
   "cell_type": "code",
   "execution_count": null,
   "metadata": {},
   "outputs": [],
   "source": []
  },
  {
   "cell_type": "code",
   "execution_count": null,
   "metadata": {},
   "outputs": [],
   "source": []
  }
 ],
 "metadata": {
  "kernelspec": {
   "display_name": "Python 3",
   "language": "python",
   "name": "python3"
  },
  "language_info": {
   "codemirror_mode": {
    "name": "ipython",
    "version": 3
   },
   "file_extension": ".py",
   "mimetype": "text/x-python",
   "name": "python",
   "nbconvert_exporter": "python",
   "pygments_lexer": "ipython3",
   "version": "3.7.3"
  }
 },
 "nbformat": 4,
 "nbformat_minor": 2
}

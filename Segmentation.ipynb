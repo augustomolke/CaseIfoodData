{
 "cells": [
  {
   "cell_type": "markdown",
   "metadata": {},
   "source": [
    "# Segmentation\n",
    "\n",
    "\n",
    "This workbook aims to propose  a nice customers segmentation that will help the company to spend marketing money more wisely.\n",
    "For running this code, it's necessary to have available 'data_model.csv' file created by EDA.ipynb file contained in the same folder.\n",
    "\n",
    "This segmentation will be based on customer's behaviors. Due to this, after the EDA step, 4 features were chosen:\n",
    "<br>\n",
    "<il>\n",
    "    <li>Total_Purchases </li>\n",
    "    <li>AOV </li>\n",
    "    <li>Recency </li>\n",
    "    <li>channel_factor ( %CatalogPurchases - %StorePurchases )</li>\n",
    "</il>\n",
    "\n",
    "\n",
    "With those features, it is expected to nicely segment customers by value to the company.\n",
    "\n",
    "The method I'll use consists in using K-Means for <b>clustering separatelly each one of the variables, then combining all of them in a final segmentation </b> which aims to identify very active (Recency & Total_Purchases), high AOV customers who tends to buy from Catalogs or Web (channels factor).\n",
    "\n",
    "K-Means is an unsupervised learning algorithm that finds similar groups within our dataset. In the math world, \"similarity\" is measured by distance (Euclidean) between two points. This algorithm finds K clusters (represented by centers points) which the total distance between centers and datapoints is the smallest.\n",
    "\n",
    "\n",
    "\n"
   ]
  },
  {
   "cell_type": "code",
   "execution_count": 33,
   "metadata": {},
   "outputs": [],
   "source": [
    "import pandas as pd\n",
    "from sklearn.cluster import KMeans\n",
    "import matplotlib.pyplot as plt\n",
    "import numpy as np\n"
   ]
  },
  {
   "cell_type": "markdown",
   "metadata": {},
   "source": [
    "Lets define a function that will sort our clusters in a way that Cluster #1 is the smallest value (i.e. smallest AOV) and the number of the cluster grows as the target feature increases."
   ]
  },
  {
   "cell_type": "code",
   "execution_count": 34,
   "metadata": {},
   "outputs": [],
   "source": [
    "def order_cluster(cluster_field_name, target_field_name,df,ascending):\n",
    "    new_cluster_field_name = 'new_' + cluster_field_name\n",
    "    df_new = df.groupby(cluster_field_name)[target_field_name].mean().reset_index()\n",
    "    df_new = df_new.sort_values(by=target_field_name,ascending=ascending).reset_index(drop=True)\n",
    "    df_new['index'] = df_new.index\n",
    "    df_final = pd.merge(df,df_new[[cluster_field_name,'index']], on=cluster_field_name)\n",
    "    df_final = df_final.drop([cluster_field_name],axis=1)\n",
    "    df_final = df_final.rename(columns={\"index\":cluster_field_name})\n",
    "    return df_final"
   ]
  },
  {
   "cell_type": "code",
   "execution_count": 35,
   "metadata": {},
   "outputs": [],
   "source": [
    "df=pd.read_csv('data_modelo.csv')"
   ]
  },
  {
   "cell_type": "code",
   "execution_count": 36,
   "metadata": {
    "scrolled": true
   },
   "outputs": [
    {
     "data": {
      "text/html": [
       "<div>\n",
       "<style scoped>\n",
       "    .dataframe tbody tr th:only-of-type {\n",
       "        vertical-align: middle;\n",
       "    }\n",
       "\n",
       "    .dataframe tbody tr th {\n",
       "        vertical-align: top;\n",
       "    }\n",
       "\n",
       "    .dataframe thead th {\n",
       "        text-align: right;\n",
       "    }\n",
       "</style>\n",
       "<table border=\"1\" class=\"dataframe\">\n",
       "  <thead>\n",
       "    <tr style=\"text-align: right;\">\n",
       "      <th></th>\n",
       "      <th>Unnamed: 0</th>\n",
       "      <th>Income</th>\n",
       "      <th>Kidhome</th>\n",
       "      <th>Teenhome</th>\n",
       "      <th>Recency</th>\n",
       "      <th>MntWines</th>\n",
       "      <th>MntFruits</th>\n",
       "      <th>MntMeatProducts</th>\n",
       "      <th>MntFishProducts</th>\n",
       "      <th>MntSweetProducts</th>\n",
       "      <th>...</th>\n",
       "      <th>Deal_purchases</th>\n",
       "      <th>channels_factor</th>\n",
       "      <th>Basic</th>\n",
       "      <th>Graduation</th>\n",
       "      <th>Master</th>\n",
       "      <th>PhD</th>\n",
       "      <th>Married</th>\n",
       "      <th>Single</th>\n",
       "      <th>Together</th>\n",
       "      <th>Widow</th>\n",
       "    </tr>\n",
       "  </thead>\n",
       "  <tbody>\n",
       "    <tr>\n",
       "      <th>0</th>\n",
       "      <td>0</td>\n",
       "      <td>58138.0</td>\n",
       "      <td>0</td>\n",
       "      <td>0</td>\n",
       "      <td>58</td>\n",
       "      <td>635</td>\n",
       "      <td>88</td>\n",
       "      <td>546</td>\n",
       "      <td>172</td>\n",
       "      <td>88</td>\n",
       "      <td>...</td>\n",
       "      <td>0</td>\n",
       "      <td>0.887593</td>\n",
       "      <td>0</td>\n",
       "      <td>1</td>\n",
       "      <td>0</td>\n",
       "      <td>0</td>\n",
       "      <td>0</td>\n",
       "      <td>1</td>\n",
       "      <td>0</td>\n",
       "      <td>0</td>\n",
       "    </tr>\n",
       "    <tr>\n",
       "      <th>1</th>\n",
       "      <td>1</td>\n",
       "      <td>46344.0</td>\n",
       "      <td>1</td>\n",
       "      <td>1</td>\n",
       "      <td>38</td>\n",
       "      <td>11</td>\n",
       "      <td>1</td>\n",
       "      <td>6</td>\n",
       "      <td>2</td>\n",
       "      <td>1</td>\n",
       "      <td>...</td>\n",
       "      <td>0</td>\n",
       "      <td>0.482927</td>\n",
       "      <td>0</td>\n",
       "      <td>1</td>\n",
       "      <td>0</td>\n",
       "      <td>0</td>\n",
       "      <td>0</td>\n",
       "      <td>1</td>\n",
       "      <td>0</td>\n",
       "      <td>0</td>\n",
       "    </tr>\n",
       "    <tr>\n",
       "      <th>2</th>\n",
       "      <td>2</td>\n",
       "      <td>71613.0</td>\n",
       "      <td>0</td>\n",
       "      <td>0</td>\n",
       "      <td>26</td>\n",
       "      <td>426</td>\n",
       "      <td>49</td>\n",
       "      <td>127</td>\n",
       "      <td>111</td>\n",
       "      <td>21</td>\n",
       "      <td>...</td>\n",
       "      <td>0</td>\n",
       "      <td>0.324042</td>\n",
       "      <td>0</td>\n",
       "      <td>1</td>\n",
       "      <td>0</td>\n",
       "      <td>0</td>\n",
       "      <td>0</td>\n",
       "      <td>0</td>\n",
       "      <td>1</td>\n",
       "      <td>0</td>\n",
       "    </tr>\n",
       "    <tr>\n",
       "      <th>3</th>\n",
       "      <td>3</td>\n",
       "      <td>26646.0</td>\n",
       "      <td>1</td>\n",
       "      <td>0</td>\n",
       "      <td>26</td>\n",
       "      <td>11</td>\n",
       "      <td>4</td>\n",
       "      <td>20</td>\n",
       "      <td>10</td>\n",
       "      <td>3</td>\n",
       "      <td>...</td>\n",
       "      <td>0</td>\n",
       "      <td>0.156794</td>\n",
       "      <td>0</td>\n",
       "      <td>1</td>\n",
       "      <td>0</td>\n",
       "      <td>0</td>\n",
       "      <td>0</td>\n",
       "      <td>0</td>\n",
       "      <td>1</td>\n",
       "      <td>0</td>\n",
       "    </tr>\n",
       "    <tr>\n",
       "      <th>4</th>\n",
       "      <td>4</td>\n",
       "      <td>58293.0</td>\n",
       "      <td>1</td>\n",
       "      <td>0</td>\n",
       "      <td>94</td>\n",
       "      <td>173</td>\n",
       "      <td>43</td>\n",
       "      <td>118</td>\n",
       "      <td>46</td>\n",
       "      <td>27</td>\n",
       "      <td>...</td>\n",
       "      <td>0</td>\n",
       "      <td>0.482927</td>\n",
       "      <td>0</td>\n",
       "      <td>0</td>\n",
       "      <td>0</td>\n",
       "      <td>1</td>\n",
       "      <td>1</td>\n",
       "      <td>0</td>\n",
       "      <td>0</td>\n",
       "      <td>0</td>\n",
       "    </tr>\n",
       "  </tbody>\n",
       "</table>\n",
       "<p>5 rows × 55 columns</p>\n",
       "</div>"
      ],
      "text/plain": [
       "   Unnamed: 0   Income  Kidhome  Teenhome  Recency  MntWines  MntFruits  \\\n",
       "0           0  58138.0        0         0       58       635         88   \n",
       "1           1  46344.0        1         1       38        11          1   \n",
       "2           2  71613.0        0         0       26       426         49   \n",
       "3           3  26646.0        1         0       26        11          4   \n",
       "4           4  58293.0        1         0       94       173         43   \n",
       "\n",
       "   MntMeatProducts  MntFishProducts  MntSweetProducts  ...  Deal_purchases  \\\n",
       "0              546              172                88  ...               0   \n",
       "1                6                2                 1  ...               0   \n",
       "2              127              111                21  ...               0   \n",
       "3               20               10                 3  ...               0   \n",
       "4              118               46                27  ...               0   \n",
       "\n",
       "   channels_factor  Basic  Graduation  Master  PhD  Married  Single  Together  \\\n",
       "0         0.887593      0           1       0    0        0       1         0   \n",
       "1         0.482927      0           1       0    0        0       1         0   \n",
       "2         0.324042      0           1       0    0        0       0         1   \n",
       "3         0.156794      0           1       0    0        0       0         1   \n",
       "4         0.482927      0           0       0    1        1       0         0   \n",
       "\n",
       "   Widow  \n",
       "0      0  \n",
       "1      0  \n",
       "2      0  \n",
       "3      0  \n",
       "4      0  \n",
       "\n",
       "[5 rows x 55 columns]"
      ]
     },
     "execution_count": 36,
     "metadata": {},
     "output_type": "execute_result"
    }
   ],
   "source": [
    "df.head()"
   ]
  },
  {
   "cell_type": "code",
   "execution_count": 37,
   "metadata": {},
   "outputs": [],
   "source": [
    "df.drop([\"Unnamed: 0\"],axis=1,inplace=True)"
   ]
  },
  {
   "cell_type": "markdown",
   "metadata": {},
   "source": [
    "# Total_Purchases Score"
   ]
  },
  {
   "cell_type": "code",
   "execution_count": 38,
   "metadata": {},
   "outputs": [],
   "source": [
    "df_clusterizacao=df[['Total_Purchases']]"
   ]
  },
  {
   "cell_type": "markdown",
   "metadata": {},
   "source": [
    "The K-means algorithm depends on the number of clusters (k) that we choose. In order to define an apropriate number of clusters, it's common to use the \"Elbow Method\" which consists of iteratively running k-means with different k values. For each run, its calculated the total error (sum of distance of each data point to its cluster center).\n",
    "The optimum number of clusters is the minimum possible in wich the decrement of error is too small.\n",
    "\n",
    "For exemple: As shown in the chart below, in the case of Total_Purchases the difference in total error between 3 or 4 clusters are really small, so we choose 3 clusters."
   ]
  },
  {
   "cell_type": "code",
   "execution_count": 39,
   "metadata": {},
   "outputs": [
    {
     "data": {
      "image/png": "[encoded data removed]",
      "text/plain": [
       "<Figure size 432x288 with 1 Axes>"
      ]
     },
     "metadata": {
      "needs_background": "light"
     },
     "output_type": "display_data"
    }
   ],
   "source": [
    "total_error = []\n",
    "for i in range(1,11):\n",
    "    km = KMeans(n_clusters=i,init='k-means++', max_iter=300, n_init=10, random_state=0)\n",
    "    km.fit(df_clusterizacao)\n",
    "    total_error.append(km.inertia_)\n",
    "plt.plot(range(1,11),total_error, c=\"#c51b7d\")\n",
    "plt.gca().spines[\"top\"].set_visible(False)\n",
    "plt.gca().spines[\"right\"].set_visible(False)\n",
    "plt.title('Elbow Method', size=14)\n",
    "plt.xlabel('Number of clusters', size=12)\n",
    "plt.ylabel('Total Error', size=14)\n",
    "plt.show()"
   ]
  },
  {
   "cell_type": "markdown",
   "metadata": {},
   "source": [
    "# Creating and training the Model"
   ]
  },
  {
   "cell_type": "code",
   "execution_count": 40,
   "metadata": {},
   "outputs": [],
   "source": [
    "kmeans = KMeans(n_clusters=3, init='k-means++', random_state=0)\n",
    "\n",
    "y_means = kmeans.fit_predict(df_clusterizacao)"
   ]
  },
  {
   "cell_type": "code",
   "execution_count": 41,
   "metadata": {},
   "outputs": [
    {
     "data": {
      "text/html": [
       "<div>\n",
       "<style scoped>\n",
       "    .dataframe tbody tr th:only-of-type {\n",
       "        vertical-align: middle;\n",
       "    }\n",
       "\n",
       "    .dataframe tbody tr th {\n",
       "        vertical-align: top;\n",
       "    }\n",
       "\n",
       "    .dataframe thead th {\n",
       "        text-align: right;\n",
       "    }\n",
       "</style>\n",
       "<table border=\"1\" class=\"dataframe\">\n",
       "  <thead>\n",
       "    <tr style=\"text-align: right;\">\n",
       "      <th></th>\n",
       "      <th>Total_Purchases</th>\n",
       "    </tr>\n",
       "  </thead>\n",
       "  <tbody>\n",
       "    <tr>\n",
       "      <th>0</th>\n",
       "      <td>13.827957</td>\n",
       "    </tr>\n",
       "    <tr>\n",
       "      <th>1</th>\n",
       "      <td>21.535842</td>\n",
       "    </tr>\n",
       "    <tr>\n",
       "      <th>2</th>\n",
       "      <td>5.296117</td>\n",
       "    </tr>\n",
       "  </tbody>\n",
       "</table>\n",
       "</div>"
      ],
      "text/plain": [
       "   Total_Purchases\n",
       "0        13.827957\n",
       "1        21.535842\n",
       "2         5.296117"
      ]
     },
     "execution_count": 41,
     "metadata": {},
     "output_type": "execute_result"
    }
   ],
   "source": [
    "centroids = pd.DataFrame(kmeans.cluster_centers_, columns = df_clusterizacao.columns)\n",
    "centroids"
   ]
  },
  {
   "cell_type": "markdown",
   "metadata": {},
   "source": [
    "Our clusters are centered in the points above. Lets add this information to our dataset."
   ]
  },
  {
   "cell_type": "code",
   "execution_count": 42,
   "metadata": {},
   "outputs": [],
   "source": [
    "df['Cluster_Purchases']= kmeans.predict(df_clusterizacao)"
   ]
  },
  {
   "cell_type": "code",
   "execution_count": 43,
   "metadata": {},
   "outputs": [],
   "source": [
    "df = order_cluster('Cluster_Purchases', 'Total_Purchases',df,True)"
   ]
  },
  {
   "cell_type": "code",
   "execution_count": 44,
   "metadata": {},
   "outputs": [
    {
     "data": {
      "text/html": [
       "<div>\n",
       "<style scoped>\n",
       "    .dataframe tbody tr th:only-of-type {\n",
       "        vertical-align: middle;\n",
       "    }\n",
       "\n",
       "    .dataframe tbody tr th {\n",
       "        vertical-align: top;\n",
       "    }\n",
       "\n",
       "    .dataframe thead th {\n",
       "        text-align: right;\n",
       "    }\n",
       "</style>\n",
       "<table border=\"1\" class=\"dataframe\">\n",
       "  <thead>\n",
       "    <tr style=\"text-align: right;\">\n",
       "      <th></th>\n",
       "      <th>count</th>\n",
       "      <th>mean</th>\n",
       "      <th>std</th>\n",
       "      <th>min</th>\n",
       "      <th>25%</th>\n",
       "      <th>50%</th>\n",
       "      <th>75%</th>\n",
       "      <th>max</th>\n",
       "    </tr>\n",
       "    <tr>\n",
       "      <th>Cluster_Purchases</th>\n",
       "      <th></th>\n",
       "      <th></th>\n",
       "      <th></th>\n",
       "      <th></th>\n",
       "      <th></th>\n",
       "      <th></th>\n",
       "      <th></th>\n",
       "      <th></th>\n",
       "    </tr>\n",
       "  </thead>\n",
       "  <tbody>\n",
       "    <tr>\n",
       "      <th>0</th>\n",
       "      <td>824.0</td>\n",
       "      <td>5.296117</td>\n",
       "      <td>1.642298</td>\n",
       "      <td>1.0</td>\n",
       "      <td>4.0</td>\n",
       "      <td>5.0</td>\n",
       "      <td>6.0</td>\n",
       "      <td>9.0</td>\n",
       "    </tr>\n",
       "    <tr>\n",
       "      <th>1</th>\n",
       "      <td>558.0</td>\n",
       "      <td>13.827957</td>\n",
       "      <td>2.228219</td>\n",
       "      <td>10.0</td>\n",
       "      <td>12.0</td>\n",
       "      <td>14.0</td>\n",
       "      <td>16.0</td>\n",
       "      <td>17.0</td>\n",
       "    </tr>\n",
       "    <tr>\n",
       "      <th>2</th>\n",
       "      <td>558.0</td>\n",
       "      <td>21.535842</td>\n",
       "      <td>2.869008</td>\n",
       "      <td>18.0</td>\n",
       "      <td>19.0</td>\n",
       "      <td>21.0</td>\n",
       "      <td>23.0</td>\n",
       "      <td>32.0</td>\n",
       "    </tr>\n",
       "  </tbody>\n",
       "</table>\n",
       "</div>"
      ],
      "text/plain": [
       "                   count       mean       std   min   25%   50%   75%   max\n",
       "Cluster_Purchases                                                          \n",
       "0                  824.0   5.296117  1.642298   1.0   4.0   5.0   6.0   9.0\n",
       "1                  558.0  13.827957  2.228219  10.0  12.0  14.0  16.0  17.0\n",
       "2                  558.0  21.535842  2.869008  18.0  19.0  21.0  23.0  32.0"
      ]
     },
     "execution_count": 44,
     "metadata": {},
     "output_type": "execute_result"
    }
   ],
   "source": [
    "df.groupby('Cluster_Purchases')['Total_Purchases'].describe()"
   ]
  },
  {
   "cell_type": "markdown",
   "metadata": {},
   "source": [
    "Notice that now cluster 2 contains the customers who have a minimum of 18 total purchases, and in average 21.5 purchases."
   ]
  },
  {
   "cell_type": "markdown",
   "metadata": {},
   "source": [
    "# Recency Score"
   ]
  },
  {
   "cell_type": "code",
   "execution_count": 45,
   "metadata": {},
   "outputs": [],
   "source": [
    "df_clusterizacao=df[['Recency']]"
   ]
  },
  {
   "cell_type": "code",
   "execution_count": 46,
   "metadata": {},
   "outputs": [
    {
     "data": {
      "image/png": "[encoded data removed]",
      "text/plain": [
       "<Figure size 432x288 with 1 Axes>"
      ]
     },
     "metadata": {
      "needs_background": "light"
     },
     "output_type": "display_data"
    }
   ],
   "source": [
    "total_error = []\n",
    "for i in range(1,11):\n",
    "    km = KMeans(n_clusters=i,init='k-means++', max_iter=300, n_init=10, random_state=0)\n",
    "    km.fit(df_clusterizacao)\n",
    "    total_error.append(km.inertia_)\n",
    "plt.plot(range(1,11),total_error, c=\"#c51b7d\")\n",
    "plt.gca().spines[\"top\"].set_visible(False)\n",
    "plt.gca().spines[\"right\"].set_visible(False)\n",
    "plt.title('Elbow Method', size=14)\n",
    "plt.xlabel('Number of clusters', size=12)\n",
    "plt.ylabel('Total Error', size=14)\n",
    "plt.show()"
   ]
  },
  {
   "cell_type": "code",
   "execution_count": 47,
   "metadata": {},
   "outputs": [],
   "source": [
    "\n",
    "kmeans = KMeans(n_clusters=3, init='k-means++', random_state=0)\n",
    "\n",
    "y_means = kmeans.fit_predict(df_clusterizacao)"
   ]
  },
  {
   "cell_type": "code",
   "execution_count": 48,
   "metadata": {},
   "outputs": [
    {
     "data": {
      "text/html": [
       "<div>\n",
       "<style scoped>\n",
       "    .dataframe tbody tr th:only-of-type {\n",
       "        vertical-align: middle;\n",
       "    }\n",
       "\n",
       "    .dataframe tbody tr th {\n",
       "        vertical-align: top;\n",
       "    }\n",
       "\n",
       "    .dataframe thead th {\n",
       "        text-align: right;\n",
       "    }\n",
       "</style>\n",
       "<table border=\"1\" class=\"dataframe\">\n",
       "  <thead>\n",
       "    <tr style=\"text-align: right;\">\n",
       "      <th></th>\n",
       "      <th>Recency</th>\n",
       "    </tr>\n",
       "  </thead>\n",
       "  <tbody>\n",
       "    <tr>\n",
       "      <th>0</th>\n",
       "      <td>82.903175</td>\n",
       "    </tr>\n",
       "    <tr>\n",
       "      <th>1</th>\n",
       "      <td>16.029806</td>\n",
       "    </tr>\n",
       "    <tr>\n",
       "      <th>2</th>\n",
       "      <td>50.029734</td>\n",
       "    </tr>\n",
       "  </tbody>\n",
       "</table>\n",
       "</div>"
      ],
      "text/plain": [
       "     Recency\n",
       "0  82.903175\n",
       "1  16.029806\n",
       "2  50.029734"
      ]
     },
     "execution_count": 48,
     "metadata": {},
     "output_type": "execute_result"
    }
   ],
   "source": [
    "\n",
    "centroids = pd.DataFrame(kmeans.cluster_centers_, columns = df_clusterizacao.columns)\n",
    "centroids"
   ]
  },
  {
   "cell_type": "code",
   "execution_count": 49,
   "metadata": {},
   "outputs": [],
   "source": [
    "df['Cluster_Recency']= kmeans.predict(df_clusterizacao)"
   ]
  },
  {
   "cell_type": "code",
   "execution_count": 50,
   "metadata": {},
   "outputs": [],
   "source": [
    "df = order_cluster('Cluster_Recency', 'Recency',df,False)"
   ]
  },
  {
   "cell_type": "code",
   "execution_count": 51,
   "metadata": {},
   "outputs": [
    {
     "data": {
      "text/html": [
       "<div>\n",
       "<style scoped>\n",
       "    .dataframe tbody tr th:only-of-type {\n",
       "        vertical-align: middle;\n",
       "    }\n",
       "\n",
       "    .dataframe tbody tr th {\n",
       "        vertical-align: top;\n",
       "    }\n",
       "\n",
       "    .dataframe thead th {\n",
       "        text-align: right;\n",
       "    }\n",
       "</style>\n",
       "<table border=\"1\" class=\"dataframe\">\n",
       "  <thead>\n",
       "    <tr style=\"text-align: right;\">\n",
       "      <th></th>\n",
       "      <th>count</th>\n",
       "      <th>mean</th>\n",
       "      <th>std</th>\n",
       "      <th>min</th>\n",
       "      <th>25%</th>\n",
       "      <th>50%</th>\n",
       "      <th>75%</th>\n",
       "      <th>max</th>\n",
       "    </tr>\n",
       "    <tr>\n",
       "      <th>Cluster_Recency</th>\n",
       "      <th></th>\n",
       "      <th></th>\n",
       "      <th></th>\n",
       "      <th></th>\n",
       "      <th></th>\n",
       "      <th></th>\n",
       "      <th></th>\n",
       "      <th></th>\n",
       "    </tr>\n",
       "  </thead>\n",
       "  <tbody>\n",
       "    <tr>\n",
       "      <th>0</th>\n",
       "      <td>630.0</td>\n",
       "      <td>82.903175</td>\n",
       "      <td>9.303665</td>\n",
       "      <td>67.0</td>\n",
       "      <td>75.0</td>\n",
       "      <td>83.0</td>\n",
       "      <td>91.0</td>\n",
       "      <td>99.0</td>\n",
       "    </tr>\n",
       "    <tr>\n",
       "      <th>1</th>\n",
       "      <td>639.0</td>\n",
       "      <td>50.029734</td>\n",
       "      <td>9.264016</td>\n",
       "      <td>34.0</td>\n",
       "      <td>42.0</td>\n",
       "      <td>50.0</td>\n",
       "      <td>57.0</td>\n",
       "      <td>66.0</td>\n",
       "    </tr>\n",
       "    <tr>\n",
       "      <th>2</th>\n",
       "      <td>671.0</td>\n",
       "      <td>16.029806</td>\n",
       "      <td>10.036010</td>\n",
       "      <td>0.0</td>\n",
       "      <td>8.0</td>\n",
       "      <td>16.0</td>\n",
       "      <td>25.0</td>\n",
       "      <td>33.0</td>\n",
       "    </tr>\n",
       "  </tbody>\n",
       "</table>\n",
       "</div>"
      ],
      "text/plain": [
       "                 count       mean        std   min   25%   50%   75%   max\n",
       "Cluster_Recency                                                           \n",
       "0                630.0  82.903175   9.303665  67.0  75.0  83.0  91.0  99.0\n",
       "1                639.0  50.029734   9.264016  34.0  42.0  50.0  57.0  66.0\n",
       "2                671.0  16.029806  10.036010   0.0   8.0  16.0  25.0  33.0"
      ]
     },
     "execution_count": 51,
     "metadata": {},
     "output_type": "execute_result"
    }
   ],
   "source": [
    "\n",
    "df.groupby('Cluster_Recency')['Recency'].describe()"
   ]
  },
  {
   "cell_type": "markdown",
   "metadata": {},
   "source": [
    "Our Recency_Cluster number 0 contains customers who made a purchase 67 days ago minimum, while cluster number 2 contains customers who bought something 33 days ago maximum."
   ]
  },
  {
   "cell_type": "markdown",
   "metadata": {},
   "source": [
    "# AOV Score"
   ]
  },
  {
   "cell_type": "code",
   "execution_count": 52,
   "metadata": {},
   "outputs": [],
   "source": [
    "df_clusterizacao=df[['AOV']]"
   ]
  },
  {
   "cell_type": "code",
   "execution_count": 53,
   "metadata": {},
   "outputs": [
    {
     "data": {
      "image/png": "[encoded data removed]",
      "text/plain": [
       "<Figure size 432x288 with 1 Axes>"
      ]
     },
     "metadata": {
      "needs_background": "light"
     },
     "output_type": "display_data"
    }
   ],
   "source": [
    "total_error = []\n",
    "for i in range(1,11):\n",
    "    km = KMeans(n_clusters=i,init='k-means++', max_iter=300, n_init=10, random_state=0)\n",
    "    km.fit(df_clusterizacao)\n",
    "    total_error.append(km.inertia_)\n",
    "plt.plot(range(1,11),total_error, c=\"#c51b7d\")\n",
    "plt.gca().spines[\"top\"].set_visible(False)\n",
    "plt.gca().spines[\"right\"].set_visible(False)\n",
    "plt.title('Elbow Method', size=14)\n",
    "plt.xlabel('Number of clusters', size=12)\n",
    "plt.ylabel('Total Error', size=14)\n",
    "plt.show()"
   ]
  },
  {
   "cell_type": "code",
   "execution_count": 54,
   "metadata": {},
   "outputs": [],
   "source": [
    "kmeans = KMeans(n_clusters=3, init='k-means++', random_state=0)\n",
    "y_means = kmeans.fit_predict(df_clusterizacao)"
   ]
  },
  {
   "cell_type": "code",
   "execution_count": 55,
   "metadata": {},
   "outputs": [
    {
     "data": {
      "text/html": [
       "<div>\n",
       "<style scoped>\n",
       "    .dataframe tbody tr th:only-of-type {\n",
       "        vertical-align: middle;\n",
       "    }\n",
       "\n",
       "    .dataframe tbody tr th {\n",
       "        vertical-align: top;\n",
       "    }\n",
       "\n",
       "    .dataframe thead th {\n",
       "        text-align: right;\n",
       "    }\n",
       "</style>\n",
       "<table border=\"1\" class=\"dataframe\">\n",
       "  <thead>\n",
       "    <tr style=\"text-align: right;\">\n",
       "      <th></th>\n",
       "      <th>AOV</th>\n",
       "    </tr>\n",
       "  </thead>\n",
       "  <tbody>\n",
       "    <tr>\n",
       "      <th>0</th>\n",
       "      <td>31.191991</td>\n",
       "    </tr>\n",
       "    <tr>\n",
       "      <th>1</th>\n",
       "      <td>74.281615</td>\n",
       "    </tr>\n",
       "    <tr>\n",
       "      <th>2</th>\n",
       "      <td>8.826331</td>\n",
       "    </tr>\n",
       "  </tbody>\n",
       "</table>\n",
       "</div>"
      ],
      "text/plain": [
       "         AOV\n",
       "0  31.191991\n",
       "1  74.281615\n",
       "2   8.826331"
      ]
     },
     "execution_count": 55,
     "metadata": {},
     "output_type": "execute_result"
    }
   ],
   "source": [
    "\n",
    "centroids = pd.DataFrame(kmeans.cluster_centers_, columns = df_clusterizacao.columns)\n",
    "centroids"
   ]
  },
  {
   "cell_type": "code",
   "execution_count": 56,
   "metadata": {},
   "outputs": [],
   "source": [
    "df['Cluster_AOV']= kmeans.predict(df_clusterizacao)\n",
    "df = order_cluster('Cluster_AOV', 'AOV',df,True)"
   ]
  },
  {
   "cell_type": "code",
   "execution_count": 57,
   "metadata": {},
   "outputs": [
    {
     "data": {
      "text/html": [
       "<div>\n",
       "<style scoped>\n",
       "    .dataframe tbody tr th:only-of-type {\n",
       "        vertical-align: middle;\n",
       "    }\n",
       "\n",
       "    .dataframe tbody tr th {\n",
       "        vertical-align: top;\n",
       "    }\n",
       "\n",
       "    .dataframe thead th {\n",
       "        text-align: right;\n",
       "    }\n",
       "</style>\n",
       "<table border=\"1\" class=\"dataframe\">\n",
       "  <thead>\n",
       "    <tr style=\"text-align: right;\">\n",
       "      <th></th>\n",
       "      <th>count</th>\n",
       "      <th>mean</th>\n",
       "      <th>std</th>\n",
       "      <th>min</th>\n",
       "      <th>25%</th>\n",
       "      <th>50%</th>\n",
       "      <th>75%</th>\n",
       "      <th>max</th>\n",
       "    </tr>\n",
       "    <tr>\n",
       "      <th>Cluster_AOV</th>\n",
       "      <th></th>\n",
       "      <th></th>\n",
       "      <th></th>\n",
       "      <th></th>\n",
       "      <th></th>\n",
       "      <th></th>\n",
       "      <th></th>\n",
       "      <th></th>\n",
       "    </tr>\n",
       "  </thead>\n",
       "  <tbody>\n",
       "    <tr>\n",
       "      <th>0</th>\n",
       "      <td>843.0</td>\n",
       "      <td>8.866095</td>\n",
       "      <td>4.631361</td>\n",
       "      <td>1.500000</td>\n",
       "      <td>5.225000</td>\n",
       "      <td>7.800000</td>\n",
       "      <td>11.375000</td>\n",
       "      <td>20.000000</td>\n",
       "    </tr>\n",
       "    <tr>\n",
       "      <th>1</th>\n",
       "      <td>660.0</td>\n",
       "      <td>31.242864</td>\n",
       "      <td>7.602205</td>\n",
       "      <td>20.090909</td>\n",
       "      <td>25.000000</td>\n",
       "      <td>30.416667</td>\n",
       "      <td>36.489648</td>\n",
       "      <td>52.666667</td>\n",
       "    </tr>\n",
       "    <tr>\n",
       "      <th>2</th>\n",
       "      <td>437.0</td>\n",
       "      <td>74.281615</td>\n",
       "      <td>16.498842</td>\n",
       "      <td>52.888889</td>\n",
       "      <td>64.210526</td>\n",
       "      <td>65.300000</td>\n",
       "      <td>88.615385</td>\n",
       "      <td>119.333333</td>\n",
       "    </tr>\n",
       "  </tbody>\n",
       "</table>\n",
       "</div>"
      ],
      "text/plain": [
       "             count       mean        std        min        25%        50%  \\\n",
       "Cluster_AOV                                                                 \n",
       "0            843.0   8.866095   4.631361   1.500000   5.225000   7.800000   \n",
       "1            660.0  31.242864   7.602205  20.090909  25.000000  30.416667   \n",
       "2            437.0  74.281615  16.498842  52.888889  64.210526  65.300000   \n",
       "\n",
       "                   75%         max  \n",
       "Cluster_AOV                         \n",
       "0            11.375000   20.000000  \n",
       "1            36.489648   52.666667  \n",
       "2            88.615385  119.333333  "
      ]
     },
     "execution_count": 57,
     "metadata": {},
     "output_type": "execute_result"
    }
   ],
   "source": [
    "df.groupby('Cluster_AOV')['AOV'].describe()"
   ]
  },
  {
   "cell_type": "markdown",
   "metadata": {},
   "source": [
    "Our AOV Cluster is the most unbalanced so far, since cluster 2 have ~7x less customers than cluster 0. That also reflects the skewness of our data."
   ]
  },
  {
   "cell_type": "markdown",
   "metadata": {},
   "source": [
    "# Channels Score"
   ]
  },
  {
   "cell_type": "code",
   "execution_count": 58,
   "metadata": {},
   "outputs": [],
   "source": [
    "df_clusterizacao=df[['channels_factor']]"
   ]
  },
  {
   "cell_type": "code",
   "execution_count": 59,
   "metadata": {},
   "outputs": [
    {
     "data": {
      "image/png": "[encoded data removed]",
      "text/plain": [
       "<Figure size 432x288 with 1 Axes>"
      ]
     },
     "metadata": {
      "needs_background": "light"
     },
     "output_type": "display_data"
    }
   ],
   "source": [
    "total_error = []\n",
    "for i in range(1,11):\n",
    "    km = KMeans(n_clusters=i,init='k-means++', max_iter=300, n_init=10, random_state=0)\n",
    "    km.fit(df_clusterizacao)\n",
    "    total_error.append(km.inertia_)\n",
    "plt.plot(range(1,11),total_error, c=\"#c51b7d\")\n",
    "plt.gca().spines[\"top\"].set_visible(False)\n",
    "plt.gca().spines[\"right\"].set_visible(False)\n",
    "plt.title('Elbow Method', size=14)\n",
    "plt.xlabel('Number of clusters', size=12)\n",
    "plt.ylabel('Total Error', size=14)\n",
    "plt.show()"
   ]
  },
  {
   "cell_type": "code",
   "execution_count": 60,
   "metadata": {},
   "outputs": [],
   "source": [
    "\n",
    "kmeans = KMeans(n_clusters=3, init='k-means++',random_state=0)\n",
    "y_means = kmeans.fit_predict(df_clusterizacao)"
   ]
  },
  {
   "cell_type": "code",
   "execution_count": 61,
   "metadata": {},
   "outputs": [
    {
     "data": {
      "text/html": [
       "<div>\n",
       "<style scoped>\n",
       "    .dataframe tbody tr th:only-of-type {\n",
       "        vertical-align: middle;\n",
       "    }\n",
       "\n",
       "    .dataframe tbody tr th {\n",
       "        vertical-align: top;\n",
       "    }\n",
       "\n",
       "    .dataframe thead th {\n",
       "        text-align: right;\n",
       "    }\n",
       "</style>\n",
       "<table border=\"1\" class=\"dataframe\">\n",
       "  <thead>\n",
       "    <tr style=\"text-align: right;\">\n",
       "      <th></th>\n",
       "      <th>channels_factor</th>\n",
       "    </tr>\n",
       "  </thead>\n",
       "  <tbody>\n",
       "    <tr>\n",
       "      <th>0</th>\n",
       "      <td>0.219849</td>\n",
       "    </tr>\n",
       "    <tr>\n",
       "      <th>1</th>\n",
       "      <td>0.452897</td>\n",
       "    </tr>\n",
       "    <tr>\n",
       "      <th>2</th>\n",
       "      <td>0.712644</td>\n",
       "    </tr>\n",
       "  </tbody>\n",
       "</table>\n",
       "</div>"
      ],
      "text/plain": [
       "   channels_factor\n",
       "0         0.219849\n",
       "1         0.452897\n",
       "2         0.712644"
      ]
     },
     "execution_count": 61,
     "metadata": {},
     "output_type": "execute_result"
    }
   ],
   "source": [
    "\n",
    "centroids = pd.DataFrame(kmeans.cluster_centers_, columns = df_clusterizacao.columns)\n",
    "centroids"
   ]
  },
  {
   "cell_type": "code",
   "execution_count": 62,
   "metadata": {},
   "outputs": [
    {
     "data": {
      "text/html": [
       "<div>\n",
       "<style scoped>\n",
       "    .dataframe tbody tr th:only-of-type {\n",
       "        vertical-align: middle;\n",
       "    }\n",
       "\n",
       "    .dataframe tbody tr th {\n",
       "        vertical-align: top;\n",
       "    }\n",
       "\n",
       "    .dataframe thead th {\n",
       "        text-align: right;\n",
       "    }\n",
       "</style>\n",
       "<table border=\"1\" class=\"dataframe\">\n",
       "  <thead>\n",
       "    <tr style=\"text-align: right;\">\n",
       "      <th></th>\n",
       "      <th>count</th>\n",
       "      <th>mean</th>\n",
       "      <th>std</th>\n",
       "      <th>min</th>\n",
       "      <th>25%</th>\n",
       "      <th>50%</th>\n",
       "      <th>75%</th>\n",
       "      <th>max</th>\n",
       "    </tr>\n",
       "    <tr>\n",
       "      <th>Cluster_Channels</th>\n",
       "      <th></th>\n",
       "      <th></th>\n",
       "      <th></th>\n",
       "      <th></th>\n",
       "      <th></th>\n",
       "      <th></th>\n",
       "      <th></th>\n",
       "      <th></th>\n",
       "    </tr>\n",
       "  </thead>\n",
       "  <tbody>\n",
       "    <tr>\n",
       "      <th>0</th>\n",
       "      <td>794.0</td>\n",
       "      <td>0.219849</td>\n",
       "      <td>0.076280</td>\n",
       "      <td>0.000000</td>\n",
       "      <td>0.156794</td>\n",
       "      <td>0.219512</td>\n",
       "      <td>0.282230</td>\n",
       "      <td>0.335045</td>\n",
       "    </tr>\n",
       "    <tr>\n",
       "      <th>1</th>\n",
       "      <td>882.0</td>\n",
       "      <td>0.452897</td>\n",
       "      <td>0.067591</td>\n",
       "      <td>0.339246</td>\n",
       "      <td>0.395122</td>\n",
       "      <td>0.449477</td>\n",
       "      <td>0.512195</td>\n",
       "      <td>0.582185</td>\n",
       "    </tr>\n",
       "    <tr>\n",
       "      <th>2</th>\n",
       "      <td>264.0</td>\n",
       "      <td>0.712644</td>\n",
       "      <td>0.095420</td>\n",
       "      <td>0.585366</td>\n",
       "      <td>0.624765</td>\n",
       "      <td>0.698531</td>\n",
       "      <td>0.783972</td>\n",
       "      <td>1.000000</td>\n",
       "    </tr>\n",
       "  </tbody>\n",
       "</table>\n",
       "</div>"
      ],
      "text/plain": [
       "                  count      mean       std       min       25%       50%  \\\n",
       "Cluster_Channels                                                            \n",
       "0                 794.0  0.219849  0.076280  0.000000  0.156794  0.219512   \n",
       "1                 882.0  0.452897  0.067591  0.339246  0.395122  0.449477   \n",
       "2                 264.0  0.712644  0.095420  0.585366  0.624765  0.698531   \n",
       "\n",
       "                       75%       max  \n",
       "Cluster_Channels                      \n",
       "0                 0.282230  0.335045  \n",
       "1                 0.512195  0.582185  \n",
       "2                 0.783972  1.000000  "
      ]
     },
     "execution_count": 62,
     "metadata": {},
     "output_type": "execute_result"
    }
   ],
   "source": [
    "df['Cluster_Channels']= kmeans.predict(df_clusterizacao)\n",
    "df = order_cluster('Cluster_Channels', 'channels_factor',df,True)\n",
    "df.groupby('Cluster_Channels')['channels_factor'].describe()"
   ]
  },
  {
   "cell_type": "markdown",
   "metadata": {},
   "source": [
    "As we can see, customerns on our Cluster buy a minimum of 62 p.p. more in Catalogs than Stores."
   ]
  },
  {
   "cell_type": "markdown",
   "metadata": {},
   "source": [
    "# Combining all scores for our final Segmentation"
   ]
  },
  {
   "cell_type": "code",
   "execution_count": 63,
   "metadata": {},
   "outputs": [],
   "source": [
    "df['Cluster_final']=df['Cluster_Purchases']+df['Cluster_Recency']+df['Cluster_AOV']+df['Cluster_Channels']"
   ]
  },
  {
   "cell_type": "code",
   "execution_count": 64,
   "metadata": {},
   "outputs": [
    {
     "data": {
      "text/html": [
       "<div>\n",
       "<style scoped>\n",
       "    .dataframe tbody tr th:only-of-type {\n",
       "        vertical-align: middle;\n",
       "    }\n",
       "\n",
       "    .dataframe tbody tr th {\n",
       "        vertical-align: top;\n",
       "    }\n",
       "\n",
       "    .dataframe thead th {\n",
       "        text-align: right;\n",
       "    }\n",
       "</style>\n",
       "<table border=\"1\" class=\"dataframe\">\n",
       "  <thead>\n",
       "    <tr style=\"text-align: right;\">\n",
       "      <th></th>\n",
       "      <th>count</th>\n",
       "      <th>mean</th>\n",
       "      <th>std</th>\n",
       "      <th>min</th>\n",
       "      <th>25%</th>\n",
       "      <th>50%</th>\n",
       "      <th>75%</th>\n",
       "      <th>max</th>\n",
       "    </tr>\n",
       "    <tr>\n",
       "      <th>Cluster_final</th>\n",
       "      <th></th>\n",
       "      <th></th>\n",
       "      <th></th>\n",
       "      <th></th>\n",
       "      <th></th>\n",
       "      <th></th>\n",
       "      <th></th>\n",
       "      <th></th>\n",
       "    </tr>\n",
       "  </thead>\n",
       "  <tbody>\n",
       "    <tr>\n",
       "      <th>0</th>\n",
       "      <td>180.0</td>\n",
       "      <td>0.022222</td>\n",
       "      <td>0.147817</td>\n",
       "      <td>0.0</td>\n",
       "      <td>0.0</td>\n",
       "      <td>0.0</td>\n",
       "      <td>0.0</td>\n",
       "      <td>1.0</td>\n",
       "    </tr>\n",
       "    <tr>\n",
       "      <th>1</th>\n",
       "      <td>287.0</td>\n",
       "      <td>0.031359</td>\n",
       "      <td>0.174590</td>\n",
       "      <td>0.0</td>\n",
       "      <td>0.0</td>\n",
       "      <td>0.0</td>\n",
       "      <td>0.0</td>\n",
       "      <td>1.0</td>\n",
       "    </tr>\n",
       "    <tr>\n",
       "      <th>2</th>\n",
       "      <td>302.0</td>\n",
       "      <td>0.076159</td>\n",
       "      <td>0.265693</td>\n",
       "      <td>0.0</td>\n",
       "      <td>0.0</td>\n",
       "      <td>0.0</td>\n",
       "      <td>0.0</td>\n",
       "      <td>1.0</td>\n",
       "    </tr>\n",
       "    <tr>\n",
       "      <th>3</th>\n",
       "      <td>216.0</td>\n",
       "      <td>0.194444</td>\n",
       "      <td>0.396692</td>\n",
       "      <td>0.0</td>\n",
       "      <td>0.0</td>\n",
       "      <td>0.0</td>\n",
       "      <td>0.0</td>\n",
       "      <td>1.0</td>\n",
       "    </tr>\n",
       "    <tr>\n",
       "      <th>4</th>\n",
       "      <td>277.0</td>\n",
       "      <td>0.115523</td>\n",
       "      <td>0.320231</td>\n",
       "      <td>0.0</td>\n",
       "      <td>0.0</td>\n",
       "      <td>0.0</td>\n",
       "      <td>0.0</td>\n",
       "      <td>1.0</td>\n",
       "    </tr>\n",
       "    <tr>\n",
       "      <th>5</th>\n",
       "      <td>306.0</td>\n",
       "      <td>0.150327</td>\n",
       "      <td>0.357977</td>\n",
       "      <td>0.0</td>\n",
       "      <td>0.0</td>\n",
       "      <td>0.0</td>\n",
       "      <td>0.0</td>\n",
       "      <td>1.0</td>\n",
       "    </tr>\n",
       "    <tr>\n",
       "      <th>6</th>\n",
       "      <td>212.0</td>\n",
       "      <td>0.268868</td>\n",
       "      <td>0.444421</td>\n",
       "      <td>0.0</td>\n",
       "      <td>0.0</td>\n",
       "      <td>0.0</td>\n",
       "      <td>1.0</td>\n",
       "      <td>1.0</td>\n",
       "    </tr>\n",
       "    <tr>\n",
       "      <th>7</th>\n",
       "      <td>130.0</td>\n",
       "      <td>0.446154</td>\n",
       "      <td>0.499015</td>\n",
       "      <td>0.0</td>\n",
       "      <td>0.0</td>\n",
       "      <td>0.0</td>\n",
       "      <td>1.0</td>\n",
       "      <td>1.0</td>\n",
       "    </tr>\n",
       "    <tr>\n",
       "      <th>8</th>\n",
       "      <td>30.0</td>\n",
       "      <td>0.566667</td>\n",
       "      <td>0.504007</td>\n",
       "      <td>0.0</td>\n",
       "      <td>0.0</td>\n",
       "      <td>1.0</td>\n",
       "      <td>1.0</td>\n",
       "      <td>1.0</td>\n",
       "    </tr>\n",
       "  </tbody>\n",
       "</table>\n",
       "</div>"
      ],
      "text/plain": [
       "               count      mean       std  min  25%  50%  75%  max\n",
       "Cluster_final                                                    \n",
       "0              180.0  0.022222  0.147817  0.0  0.0  0.0  0.0  1.0\n",
       "1              287.0  0.031359  0.174590  0.0  0.0  0.0  0.0  1.0\n",
       "2              302.0  0.076159  0.265693  0.0  0.0  0.0  0.0  1.0\n",
       "3              216.0  0.194444  0.396692  0.0  0.0  0.0  0.0  1.0\n",
       "4              277.0  0.115523  0.320231  0.0  0.0  0.0  0.0  1.0\n",
       "5              306.0  0.150327  0.357977  0.0  0.0  0.0  0.0  1.0\n",
       "6              212.0  0.268868  0.444421  0.0  0.0  0.0  1.0  1.0\n",
       "7              130.0  0.446154  0.499015  0.0  0.0  0.0  1.0  1.0\n",
       "8               30.0  0.566667  0.504007  0.0  0.0  1.0  1.0  1.0"
      ]
     },
     "execution_count": 64,
     "metadata": {},
     "output_type": "execute_result"
    }
   ],
   "source": [
    "df.groupby('Cluster_final')['Response'].describe()"
   ]
  },
  {
   "cell_type": "code",
   "execution_count": 65,
   "metadata": {},
   "outputs": [
    {
     "data": {
      "text/html": [
       "<div>\n",
       "<style scoped>\n",
       "    .dataframe tbody tr th:only-of-type {\n",
       "        vertical-align: middle;\n",
       "    }\n",
       "\n",
       "    .dataframe tbody tr th {\n",
       "        vertical-align: top;\n",
       "    }\n",
       "\n",
       "    .dataframe thead th {\n",
       "        text-align: right;\n",
       "    }\n",
       "</style>\n",
       "<table border=\"1\" class=\"dataframe\">\n",
       "  <thead>\n",
       "    <tr style=\"text-align: right;\">\n",
       "      <th></th>\n",
       "      <th>Recency</th>\n",
       "      <th>AOV</th>\n",
       "      <th>channels_factor</th>\n",
       "      <th>Total_income_familymember</th>\n",
       "    </tr>\n",
       "    <tr>\n",
       "      <th>Cluster_final</th>\n",
       "      <th></th>\n",
       "      <th></th>\n",
       "      <th></th>\n",
       "      <th></th>\n",
       "    </tr>\n",
       "  </thead>\n",
       "  <tbody>\n",
       "    <tr>\n",
       "      <th>0</th>\n",
       "      <td>82.900000</td>\n",
       "      <td>8.000747</td>\n",
       "      <td>0.207067</td>\n",
       "      <td>15736.870139</td>\n",
       "    </tr>\n",
       "    <tr>\n",
       "      <th>1</th>\n",
       "      <td>59.522648</td>\n",
       "      <td>8.622457</td>\n",
       "      <td>0.270748</td>\n",
       "      <td>15480.564460</td>\n",
       "    </tr>\n",
       "    <tr>\n",
       "      <th>2</th>\n",
       "      <td>32.533113</td>\n",
       "      <td>10.216022</td>\n",
       "      <td>0.264385</td>\n",
       "      <td>17698.085265</td>\n",
       "    </tr>\n",
       "    <tr>\n",
       "      <th>3</th>\n",
       "      <td>52.592593</td>\n",
       "      <td>22.150365</td>\n",
       "      <td>0.404635</td>\n",
       "      <td>25207.936150</td>\n",
       "    </tr>\n",
       "    <tr>\n",
       "      <th>4</th>\n",
       "      <td>54.592058</td>\n",
       "      <td>37.249849</td>\n",
       "      <td>0.404784</td>\n",
       "      <td>36610.026775</td>\n",
       "    </tr>\n",
       "    <tr>\n",
       "      <th>5</th>\n",
       "      <td>48.996732</td>\n",
       "      <td>47.363365</td>\n",
       "      <td>0.487095</td>\n",
       "      <td>45819.979167</td>\n",
       "    </tr>\n",
       "    <tr>\n",
       "      <th>6</th>\n",
       "      <td>36.792453</td>\n",
       "      <td>59.259421</td>\n",
       "      <td>0.544462</td>\n",
       "      <td>59406.868318</td>\n",
       "    </tr>\n",
       "    <tr>\n",
       "      <th>7</th>\n",
       "      <td>25.976923</td>\n",
       "      <td>70.547054</td>\n",
       "      <td>0.628592</td>\n",
       "      <td>66982.250000</td>\n",
       "    </tr>\n",
       "    <tr>\n",
       "      <th>8</th>\n",
       "      <td>15.733333</td>\n",
       "      <td>74.182146</td>\n",
       "      <td>0.720387</td>\n",
       "      <td>67941.733333</td>\n",
       "    </tr>\n",
       "  </tbody>\n",
       "</table>\n",
       "</div>"
      ],
      "text/plain": [
       "                 Recency        AOV  channels_factor  \\\n",
       "Cluster_final                                          \n",
       "0              82.900000   8.000747         0.207067   \n",
       "1              59.522648   8.622457         0.270748   \n",
       "2              32.533113  10.216022         0.264385   \n",
       "3              52.592593  22.150365         0.404635   \n",
       "4              54.592058  37.249849         0.404784   \n",
       "5              48.996732  47.363365         0.487095   \n",
       "6              36.792453  59.259421         0.544462   \n",
       "7              25.976923  70.547054         0.628592   \n",
       "8              15.733333  74.182146         0.720387   \n",
       "\n",
       "               Total_income_familymember  \n",
       "Cluster_final                             \n",
       "0                           15736.870139  \n",
       "1                           15480.564460  \n",
       "2                           17698.085265  \n",
       "3                           25207.936150  \n",
       "4                           36610.026775  \n",
       "5                           45819.979167  \n",
       "6                           59406.868318  \n",
       "7                           66982.250000  \n",
       "8                           67941.733333  "
      ]
     },
     "execution_count": 65,
     "metadata": {},
     "output_type": "execute_result"
    }
   ],
   "source": [
    "df.groupby('Cluster_final')['Recency','AOV','channels_factor','Total_income_familymember'].mean()"
   ]
  },
  {
   "cell_type": "markdown",
   "metadata": {},
   "source": [
    "Now we have 8 groups, where 8 is the group with higher value in terms of the features we selected.\n",
    "We'll transform those 8 groups in 3 Tiers."
   ]
  },
  {
   "cell_type": "code",
   "execution_count": 66,
   "metadata": {},
   "outputs": [],
   "source": [
    "df['Segment'] = 'Tier 3'\n",
    "df.loc[df['Cluster_final']>2,'Segment'] = 'Tier 2' \n",
    "df.loc[df['Cluster_final']>4,'Segment'] = 'Tier 1' "
   ]
  },
  {
   "cell_type": "markdown",
   "metadata": {},
   "source": [
    "# Final Segments\n",
    "\n",
    "\n",
    "Lets finally see how our segments define our customers behaviour:"
   ]
  },
  {
   "cell_type": "code",
   "execution_count": 67,
   "metadata": {},
   "outputs": [
    {
     "data": {
      "text/html": [
       "<div>\n",
       "<style scoped>\n",
       "    .dataframe tbody tr th:only-of-type {\n",
       "        vertical-align: middle;\n",
       "    }\n",
       "\n",
       "    .dataframe tbody tr th {\n",
       "        vertical-align: top;\n",
       "    }\n",
       "\n",
       "    .dataframe thead th {\n",
       "        text-align: right;\n",
       "    }\n",
       "</style>\n",
       "<table border=\"1\" class=\"dataframe\">\n",
       "  <thead>\n",
       "    <tr style=\"text-align: right;\">\n",
       "      <th></th>\n",
       "      <th>Recency</th>\n",
       "      <th>AOV</th>\n",
       "      <th>channels_factor</th>\n",
       "      <th>Total_Purchases</th>\n",
       "      <th>Response</th>\n",
       "    </tr>\n",
       "    <tr>\n",
       "      <th>Segment</th>\n",
       "      <th></th>\n",
       "      <th></th>\n",
       "      <th></th>\n",
       "      <th></th>\n",
       "      <th></th>\n",
       "    </tr>\n",
       "  </thead>\n",
       "  <tbody>\n",
       "    <tr>\n",
       "      <th>Tier 1</th>\n",
       "      <td>39.294985</td>\n",
       "      <td>56.714998</td>\n",
       "      <td>0.542486</td>\n",
       "      <td>19.169617</td>\n",
       "      <td>0.262537</td>\n",
       "    </tr>\n",
       "    <tr>\n",
       "      <th>Tier 2</th>\n",
       "      <td>53.716024</td>\n",
       "      <td>30.634254</td>\n",
       "      <td>0.404719</td>\n",
       "      <td>13.886410</td>\n",
       "      <td>0.150101</td>\n",
       "    </tr>\n",
       "    <tr>\n",
       "      <th>Tier 3</th>\n",
       "      <td>54.395319</td>\n",
       "      <td>9.102755</td>\n",
       "      <td>0.253343</td>\n",
       "      <td>5.531860</td>\n",
       "      <td>0.046814</td>\n",
       "    </tr>\n",
       "  </tbody>\n",
       "</table>\n",
       "</div>"
      ],
      "text/plain": [
       "           Recency        AOV  channels_factor  Total_Purchases  Response\n",
       "Segment                                                                  \n",
       "Tier 1   39.294985  56.714998         0.542486        19.169617  0.262537\n",
       "Tier 2   53.716024  30.634254         0.404719        13.886410  0.150101\n",
       "Tier 3   54.395319   9.102755         0.253343         5.531860  0.046814"
      ]
     },
     "execution_count": 67,
     "metadata": {},
     "output_type": "execute_result"
    }
   ],
   "source": [
    "df.groupby('Segment')['Recency','AOV','channels_factor','Total_Purchases','Response'].mean()"
   ]
  },
  {
   "cell_type": "code",
   "execution_count": 68,
   "metadata": {},
   "outputs": [
    {
     "data": {
      "text/plain": [
       "Segment\n",
       "Tier 1    678\n",
       "Tier 2    493\n",
       "Tier 3    769\n",
       "Name: Response, dtype: int64"
      ]
     },
     "execution_count": 68,
     "metadata": {},
     "output_type": "execute_result"
    }
   ],
   "source": [
    "df.groupby('Segment')['Response'].count()"
   ]
  },
  {
   "cell_type": "code",
   "execution_count": 69,
   "metadata": {},
   "outputs": [
    {
     "data": {
      "text/plain": [
       "[Text(0, 0.5, 'Segment'), Text(0.5, 0, 'AOV')]"
      ]
     },
     "execution_count": 69,
     "metadata": {},
     "output_type": "execute_result"
    },
    {
     "data": {
      "image/png": "[encoded data removed]",
      "text/plain": [
       "<Figure size 1440x1440 with 4 Axes>"
      ]
     },
     "metadata": {
      "needs_background": "light"
     },
     "output_type": "display_data"
    }
   ],
   "source": [
    "import seaborn as sns\n",
    "fig, axes = plt.subplots(nrows=2,ncols=2)\n",
    "fig.set_size_inches(20, 20)\n",
    "#sns.barplot(x='Segment',y='Response',data=df,ax=axes[0][0])\n",
    "\n",
    "sns.kdeplot(df['Recency'].loc[df.Segment == 'Tier 1'], shade=True,label='Tier 1',ax=axes[0][0])\n",
    "sns.kdeplot(df['Recency'].loc[df.Segment == 'Tier 2'], shade=True, label='Tier 2',ax=axes[0][0])\n",
    "sns.kdeplot(df['Recency'].loc[df.Segment == 'Tier 3'], shade=True, label='Tier 3',ax=axes[0][0])\n",
    "\n",
    "sns.kdeplot(df['channels_factor'].loc[df.Segment == 'Tier 1'], shade=True,label='Tier 1',ax=axes[0][1])\n",
    "sns.kdeplot(df['channels_factor'].loc[df.Segment == 'Tier 2'], shade=True, label='Tier 2',ax=axes[0][1])\n",
    "sns.kdeplot(df['channels_factor'].loc[df.Segment == 'Tier 3'], shade=True, label='Tier 3',ax=axes[0][1])\n",
    "\n",
    "sns.kdeplot(df['Total_Purchases'].loc[df.Segment == 'Tier 1'], shade=True,label='Tier 1',ax=axes[1][0])\n",
    "sns.kdeplot(df['Total_Purchases'].loc[df.Segment == 'Tier 2'], shade=True, label='Tier 2',ax=axes[1][0])\n",
    "sns.kdeplot(df['Total_Purchases'].loc[df.Segment == 'Tier 3'], shade=True, label='Tier 3',ax=axes[1][0])\n",
    "\n",
    "sns.kdeplot(df['AOV'].loc[df.Segment == 'Tier 1'], shade=True,label='Tier 1',ax=axes[1][1])\n",
    "sns.kdeplot(df['AOV'].loc[df.Segment == 'Tier 2'], shade=True, label='Tier 2',ax=axes[1][1])\n",
    "sns.kdeplot(df['AOV'].loc[df.Segment == 'Tier 3'], shade=True, label='Tier 3',ax=axes[1][1])\n",
    "\n",
    "axes[0][0].set(ylabel='Segment', xlabel='Recency')\n",
    "axes[0][1].set(ylabel='Segment', xlabel='channels_factor')\n",
    "axes[1][0].set(ylabel='Segment', xlabel='Total_Purchases')\n",
    "axes[1][1].set(ylabel='Segment', xlabel='AOV')"
   ]
  },
  {
   "cell_type": "markdown",
   "metadata": {},
   "source": [
    "\n",
    "<br> \n",
    "\n",
    "Now we have 3 Customers Segments that might be described as:\n",
    "<br>\n",
    "<il>\n",
    "    <li><b>Tier 1 (501 customers)</b>: Group of customers with higher AOV, amount of purchases and recent purchases. They also tend to buy less through Stores</li>\n",
    "    <li><b>Tier 2 (566 customers)</b>: Group with values in the middle</li>\n",
    "    <li><b>Tier 3 (873 customers)</b>:Group of inactive customers, with low AOV and usually make purchases in Stores</li>\n",
    "</il>\n",
    "\n",
    "\n",
    "Lets see how our clusters would perform in the Campaings:"
   ]
  },
  {
   "cell_type": "code",
   "execution_count": 70,
   "metadata": {},
   "outputs": [
    {
     "data": {
      "text/plain": [
       "[Text(0, 0.5, 'Response'), Text(0.5, 0, 'AcceptedCmp5')]"
      ]
     },
     "execution_count": 70,
     "metadata": {},
     "output_type": "execute_result"
    },
    {
     "data": {
      "image/png": "[encoded data removed]",
      "text/plain": [
       "<Figure size 1440x1440 with 6 Axes>"
      ]
     },
     "metadata": {
      "needs_background": "light"
     },
     "output_type": "display_data"
    }
   ],
   "source": [
    "fig, axes = plt.subplots(nrows=3,ncols=2)\n",
    "fig.set_size_inches(20, 20)\n",
    "sns.barplot(x='Segment',y='Response',data=df,ax=axes[0][0])\n",
    "sns.barplot(x='Segment',y='AcceptedCmp1',data=df,ax=axes[0][1])\n",
    "sns.barplot(x='Segment',y='AcceptedCmp2',data=df,ax=axes[1][0])\n",
    "sns.barplot(x='Segment',y='AcceptedCmp3',data=df,ax=axes[1][1])\n",
    "sns.barplot(x='Segment',y='AcceptedCmp4',data=df,ax=axes[2][0])\n",
    "sns.barplot(x='Segment',y='AcceptedCmp5',data=df,ax=axes[2][1])\n",
    "\n",
    "\n",
    "axes[0][0].set(xlabel='Segment', ylabel='Response')\n",
    "axes[0][0].set(xlabel='AcceptedCmp1', ylabel='Response')\n",
    "axes[0][0].set(xlabel='AcceptedCmp2', ylabel='Response')\n",
    "axes[0][0].set(xlabel='AcceptedCmp3', ylabel='Response')\n",
    "axes[0][0].set(xlabel='AcceptedCmp4', ylabel='Response')\n",
    "axes[0][0].set(xlabel='AcceptedCmp5', ylabel='Response')"
   ]
  },
  {
   "cell_type": "markdown",
   "metadata": {},
   "source": [
    "As we can see, our Tier 1 Customers converted more than Tier 3 customers <b>in every campaign</b>. With the <b>conversion rate ~6x more than Tier 3 Customers in the last campaing.</b>"
   ]
  },
  {
   "cell_type": "code",
   "execution_count": 71,
   "metadata": {},
   "outputs": [],
   "source": [
    "Cluster_dummies=pd.get_dummies(df['Segment'], drop_first=True)"
   ]
  },
  {
   "cell_type": "code",
   "execution_count": 72,
   "metadata": {},
   "outputs": [],
   "source": [
    "df=pd.concat([df,Cluster_dummies], axis=1)\n",
    "df.drop(['Segment','Cluster_AOV','Cluster_Recency','Cluster_Channels','Cluster_Purchases'],axis=1,inplace=True)"
   ]
  },
  {
   "cell_type": "code",
   "execution_count": 73,
   "metadata": {},
   "outputs": [],
   "source": [
    "df.to_csv('data_modelo.csv')"
   ]
  }
 ],
 "metadata": {
  "kernelspec": {
   "display_name": "Python 3",
   "language": "python",
   "name": "python3"
  },
  "language_info": {
   "codemirror_mode": {
    "name": "ipython",
    "version": 3
   },
   "file_extension": ".py",
   "mimetype": "text/x-python",
   "name": "python",
   "nbconvert_exporter": "python",
   "pygments_lexer": "ipython3",
   "version": "3.7.3"
  }
 },
 "nbformat": 4,
 "nbformat_minor": 2
}
